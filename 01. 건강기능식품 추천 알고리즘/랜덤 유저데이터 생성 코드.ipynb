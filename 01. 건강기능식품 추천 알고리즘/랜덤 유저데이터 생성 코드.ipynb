{
 "cells": [
  {
   "cell_type": "code",
   "execution_count": 1,
   "metadata": {},
   "outputs": [],
   "source": [
    "import pandas as pd\n",
    "import random"
   ]
  },
  {
   "cell_type": "code",
   "execution_count": 2,
   "metadata": {},
   "outputs": [],
   "source": [
    "# 유저데이터갯수: 1000개 랜덩 생성\n",
    "sample_num = 1000"
   ]
  },
  {
   "cell_type": "code",
   "execution_count": 3,
   "metadata": {},
   "outputs": [],
   "source": [
    "# userID\n",
    "random_userID_list = list(range(sample_num))"
   ]
  },
  {
   "cell_type": "code",
   "execution_count": 4,
   "metadata": {},
   "outputs": [],
   "source": [
    "# age\n",
    "random_user_age_list = [random.randrange(18, 60, 1) for i in range(sample_num)] # random.sample은 이전에 뽑혔던 숫자는 뽑지 않음. 범위 내 유효 숫자 개수 이상의 숫자를 뽑을 경우 'Sample larger than population or is negative' 에러 발생"
   ]
  },
  {
   "cell_type": "code",
   "execution_count": 5,
   "metadata": {},
   "outputs": [],
   "source": [
    "# sex\n",
    "sex_list = ['F','M']\n",
    "random_user_sex_list = random.choices(['F','M'],k=sample_num)"
   ]
  },
  {
   "cell_type": "code",
   "execution_count": 6,
   "metadata": {},
   "outputs": [],
   "source": [
    "# 관심등록기관\n",
    "organs_df = pd.read_csv('01기능별정보추천원료.csv', encoding='utf-8', index_col='Unnamed: 0')\n",
    "organs_list = organs_df['신체기능/기관']\n",
    "random_user_interestedOrgan_list = random.choices(organs_list,k=sample_num)"
   ]
  },
  {
   "cell_type": "code",
   "execution_count": 7,
   "metadata": {},
   "outputs": [],
   "source": [
    "# 관심등록질환\n",
    "# **요청하기\n",
    "disorder_list = ['협심증', '고혈압', '뇌졸중', '당뇨병', '천식', '아토피성 피부염', '간염', '빈혈', '심근경색증']\n",
    "random_user_interestedDisorder_list = random.choices(disorder_list,k=sample_num)"
   ]
  },
  {
   "cell_type": "code",
   "execution_count": 9,
   "metadata": {},
   "outputs": [],
   "source": [
    "# 건강기능식품하트기록\n",
    "# 모든 유저가 하트를 누른 건강기능식품이 5개라 가정\n",
    "items_df = pd.read_csv('03(heart열ID열추가)건강기능식품 품목제조 신고사항 현황_건강기능식품 종류 및 효능 - Copy.csv',encoding='utf-8').reset_index().drop(['index','Unnamed: 0'],axis=1)\n",
    "pd.options.display.max_colwidth\n",
    "items_df.fillna('항목없음',inplace=True)\n",
    "items_list = list(items_df.index)\n",
    "\n",
    "random_user_interestedItem_list = []\n",
    "for i in range(sample_num):\n",
    "    temp = [random.randrange(items_list[0], items_list[-1], 1) for i in range(50)]\n",
    "    random_user_interestedItem_list.append(temp)"
   ]
  },
  {
   "cell_type": "code",
   "execution_count": 10,
   "metadata": {},
   "outputs": [],
   "source": [
    "# 레시피북마크기록\n",
    "# 모든 유저가 북마크를한 누른 레시피가 4개라 가정\n",
    "\n",
    "recipe_df = pd.read_csv('merged_df.csv',encoding='utf-8')\n",
    "recipe_list = list(recipe_df.index)\n",
    "# 추후에 1318 -> recipe_list[-1] 바꿀 것 \n",
    "# 추후에 0 -> recipe_list[0]로 바꿀 것 \n",
    "\n",
    "random_user_interestedRecipe_list = []\n",
    "for i in range(sample_num):\n",
    "    temp = [random.randrange(recipe_list[0], recipe_list[-1], 1) for i in range(50)]\n",
    "    random_user_interestedRecipe_list.append(temp)"
   ]
  },
  {
   "cell_type": "code",
   "execution_count": 11,
   "metadata": {},
   "outputs": [],
   "source": [
    "data = {\n",
    "    'userID':random_userID_list,\n",
    "    'age':random_user_age_list,\n",
    "    'sex':random_user_sex_list,\n",
    "    '관심등록기관':random_user_interestedOrgan_list,\n",
    "    '관심등록질환':random_user_interestedDisorder_list,\n",
    "    '건강기능식품하트기록':random_user_interestedItem_list,\n",
    "    '레시피북마크기록':random_user_interestedRecipe_list\n",
    "}\n",
    "\n",
    "random_users_df = pd.DataFrame(data)"
   ]
  },
  {
   "cell_type": "code",
   "execution_count": 14,
   "metadata": {},
   "outputs": [
    {
     "ename": "TypeError",
     "evalue": "to_csv() got an unexpected keyword argument 'index_col'",
     "output_type": "error",
     "traceback": [
      "\u001b[1;31m---------------------------------------------------------------------------\u001b[0m",
      "\u001b[1;31mTypeError\u001b[0m                                 Traceback (most recent call last)",
      "\u001b[1;32m<ipython-input-14-9f1d1ae9f93f>\u001b[0m in \u001b[0;36m<module>\u001b[1;34m\u001b[0m\n\u001b[1;32m----> 1\u001b[1;33m \u001b[0mrandom_users_df\u001b[0m\u001b[1;33m.\u001b[0m\u001b[0mto_csv\u001b[0m\u001b[1;33m(\u001b[0m\u001b[1;34m'랜덤유저데이터.csv'\u001b[0m\u001b[1;33m,\u001b[0m\u001b[0mindex_col\u001b[0m\u001b[1;33m=\u001b[0m\u001b[1;34m'Unnamed: 0'\u001b[0m\u001b[1;33m)\u001b[0m\u001b[1;33m\u001b[0m\u001b[1;33m\u001b[0m\u001b[0m\n\u001b[0m",
      "\u001b[1;31mTypeError\u001b[0m: to_csv() got an unexpected keyword argument 'index_col'"
     ]
    }
   ],
   "source": [
    "random_users_df.to_csv('랜덤유저데이터.csv')"
   ]
  },
  {
   "cell_type": "code",
   "execution_count": 15,
   "metadata": {},
   "outputs": [
    {
     "data": {
      "text/html": [
       "<div>\n",
       "<style scoped>\n",
       "    .dataframe tbody tr th:only-of-type {\n",
       "        vertical-align: middle;\n",
       "    }\n",
       "\n",
       "    .dataframe tbody tr th {\n",
       "        vertical-align: top;\n",
       "    }\n",
       "\n",
       "    .dataframe thead th {\n",
       "        text-align: right;\n",
       "    }\n",
       "</style>\n",
       "<table border=\"1\" class=\"dataframe\">\n",
       "  <thead>\n",
       "    <tr style=\"text-align: right;\">\n",
       "      <th></th>\n",
       "      <th>userID</th>\n",
       "      <th>age</th>\n",
       "      <th>sex</th>\n",
       "      <th>관심등록기관</th>\n",
       "      <th>관심등록질환</th>\n",
       "      <th>건강기능식품하트기록</th>\n",
       "      <th>레시피북마크기록</th>\n",
       "    </tr>\n",
       "  </thead>\n",
       "  <tbody>\n",
       "    <tr>\n",
       "      <th>0</th>\n",
       "      <td>0</td>\n",
       "      <td>38</td>\n",
       "      <td>M</td>\n",
       "      <td>치아</td>\n",
       "      <td>심근경색증</td>\n",
       "      <td>[11240, 12328, 4791, 15392, 14925, 20761, 2016...</td>\n",
       "      <td>[470, 942, 223, 1225, 1077, 245, 199, 628, 360...</td>\n",
       "    </tr>\n",
       "    <tr>\n",
       "      <th>1</th>\n",
       "      <td>1</td>\n",
       "      <td>51</td>\n",
       "      <td>M</td>\n",
       "      <td>면역 기능</td>\n",
       "      <td>당뇨병</td>\n",
       "      <td>[14831, 3769, 11828, 24795, 9401, 578, 9587, 2...</td>\n",
       "      <td>[337, 695, 1128, 484, 599, 174, 169, 1086, 102...</td>\n",
       "    </tr>\n",
       "    <tr>\n",
       "      <th>2</th>\n",
       "      <td>2</td>\n",
       "      <td>24</td>\n",
       "      <td>M</td>\n",
       "      <td>면역 기능</td>\n",
       "      <td>당뇨병</td>\n",
       "      <td>[2883, 2118, 20799, 4545, 1866, 20573, 2688, 1...</td>\n",
       "      <td>[347, 798, 906, 1161, 685, 846, 647, 1215, 117...</td>\n",
       "    </tr>\n",
       "    <tr>\n",
       "      <th>3</th>\n",
       "      <td>3</td>\n",
       "      <td>24</td>\n",
       "      <td>F</td>\n",
       "      <td>피부</td>\n",
       "      <td>간염</td>\n",
       "      <td>[13665, 28887, 23752, 28269, 787, 10799, 22770...</td>\n",
       "      <td>[11, 245, 596, 145, 597, 610, 240, 659, 62, 26...</td>\n",
       "    </tr>\n",
       "    <tr>\n",
       "      <th>4</th>\n",
       "      <td>4</td>\n",
       "      <td>33</td>\n",
       "      <td>M</td>\n",
       "      <td>칼슘 흡수</td>\n",
       "      <td>협심증</td>\n",
       "      <td>[3174, 12516, 16282, 16393, 25409, 3559, 9304,...</td>\n",
       "      <td>[849, 800, 960, 126, 300, 900, 522, 1151, 562,...</td>\n",
       "    </tr>\n",
       "  </tbody>\n",
       "</table>\n",
       "</div>"
      ],
      "text/plain": [
       "   userID  age sex 관심등록기관 관심등록질환  \\\n",
       "0       0   38   M    치아   심근경색증   \n",
       "1       1   51   M  면역 기능    당뇨병   \n",
       "2       2   24   M  면역 기능    당뇨병   \n",
       "3       3   24   F    피부      간염   \n",
       "4       4   33   M  칼슘 흡수    협심증   \n",
       "\n",
       "                                          건강기능식품하트기록  \\\n",
       "0  [11240, 12328, 4791, 15392, 14925, 20761, 2016...   \n",
       "1  [14831, 3769, 11828, 24795, 9401, 578, 9587, 2...   \n",
       "2  [2883, 2118, 20799, 4545, 1866, 20573, 2688, 1...   \n",
       "3  [13665, 28887, 23752, 28269, 787, 10799, 22770...   \n",
       "4  [3174, 12516, 16282, 16393, 25409, 3559, 9304,...   \n",
       "\n",
       "                                            레시피북마크기록  \n",
       "0  [470, 942, 223, 1225, 1077, 245, 199, 628, 360...  \n",
       "1  [337, 695, 1128, 484, 599, 174, 169, 1086, 102...  \n",
       "2  [347, 798, 906, 1161, 685, 846, 647, 1215, 117...  \n",
       "3  [11, 245, 596, 145, 597, 610, 240, 659, 62, 26...  \n",
       "4  [849, 800, 960, 126, 300, 900, 522, 1151, 562,...  "
      ]
     },
     "execution_count": 15,
     "metadata": {},
     "output_type": "execute_result"
    }
   ],
   "source": [
    "random_df = pd.read_csv('랜덤유저데이터.csv',index_col='Unnamed: 0')\n",
    "random_df.head()\n",
    "# 건강기능식품하트기록열은 랜덤으로 뽑은 5개의 건강기능식품아이템에 해당하는 5개의 index번호이고, 레시피북마크기록열은 랜덤으로 뽑은 5개의 레시피에 해당하는 5개의 index번호입니다. \n",
    "# 협업필터링 구현하면서, 비슷한 유저임을 판단하는 기준열은 'age,  sex, 관심등록기관, 관심등록질환열'로 잡고 진행하시면 될 것 같습니다. "
   ]
  }
 ],
 "metadata": {
  "kernelspec": {
   "display_name": "Python 3",
   "language": "python",
   "name": "python3"
  },
  "language_info": {
   "codemirror_mode": {
    "name": "ipython",
    "version": 3
   },
   "file_extension": ".py",
   "mimetype": "text/x-python",
   "name": "python",
   "nbconvert_exporter": "python",
   "pygments_lexer": "ipython3",
   "version": "3.7.6"
  },
  "toc": {
   "base_numbering": 1,
   "nav_menu": {},
   "number_sections": true,
   "sideBar": true,
   "skip_h1_title": false,
   "title_cell": "Table of Contents",
   "title_sidebar": "Contents",
   "toc_cell": false,
   "toc_position": {},
   "toc_section_display": true,
   "toc_window_display": false
  }
 },
 "nbformat": 4,
 "nbformat_minor": 2
}
