{
 "cells": [
  {
   "cell_type": "code",
   "execution_count": 1,
   "metadata": {},
   "outputs": [],
   "source": [
    "import numpy as np\n",
    "import pandas as pd\n",
    "from sklearn.feature_extraction.text import TfidfVectorizer, CountVectorizer\n",
    "from sklearn.metrics.pairwise import cosine_similarity"
   ]
  },
  {
   "cell_type": "code",
   "execution_count": 3,
   "metadata": {},
   "outputs": [
    {
     "data": {
      "text/html": [
       "<div>\n",
       "<style scoped>\n",
       "    .dataframe tbody tr th:only-of-type {\n",
       "        vertical-align: middle;\n",
       "    }\n",
       "\n",
       "    .dataframe tbody tr th {\n",
       "        vertical-align: top;\n",
       "    }\n",
       "\n",
       "    .dataframe thead th {\n",
       "        text-align: right;\n",
       "    }\n",
       "</style>\n",
       "<table border=\"1\" class=\"dataframe\">\n",
       "  <thead>\n",
       "    <tr style=\"text-align: right;\">\n",
       "      <th></th>\n",
       "      <th>itemID</th>\n",
       "      <th>허가번호</th>\n",
       "      <th>제품명</th>\n",
       "      <th>제조회사</th>\n",
       "      <th>제품타입</th>\n",
       "      <th>제품분류</th>\n",
       "      <th>유통기한</th>\n",
       "      <th>효능</th>\n",
       "      <th>복용법</th>\n",
       "      <th>주의사항</th>\n",
       "      <th>어린이 기호식품</th>\n",
       "      <th>heart</th>\n",
       "    </tr>\n",
       "  </thead>\n",
       "  <tbody>\n",
       "    <tr>\n",
       "      <th>0</th>\n",
       "      <td>0</td>\n",
       "      <td>2.004002e+10</td>\n",
       "      <td>해피트루 포스트 바이오틱스</td>\n",
       "      <td>(주)알피바이오</td>\n",
       "      <td>고유의 향미가 있고 이미, 이취가 없는 진한 노랑색 알갱이가 있는 하양색 분말</td>\n",
       "      <td>프로바이오틱스, 프락토올리고당, 아연, 비오틴</td>\n",
       "      <td>제조일로부터 18개월</td>\n",
       "      <td>[프락토올리고당] ①장내 유익균 증식 및 배변활동 원활에 도움을 줄 수 있음\\n\\n...</td>\n",
       "      <td>1일 1회, 1회 1포를 충분한 물과 함께 섭취하십시오.</td>\n",
       "      <td>[프락토올리고당]\\n (가) 섭취 시 가스참, 트림, 복통, 복부팽만감 등이 발생할...</td>\n",
       "      <td>항목없음</td>\n",
       "      <td>2</td>\n",
       "    </tr>\n",
       "    <tr>\n",
       "      <th>1</th>\n",
       "      <td>1</td>\n",
       "      <td>2.015001e+10</td>\n",
       "      <td>클린차전자피분말</td>\n",
       "      <td>푸른바이오에스</td>\n",
       "      <td>이미, 이취가 없고 고유의 향미가 있는 밝은 회황색의 분말</td>\n",
       "      <td>차전자피식이섬유</td>\n",
       "      <td>제조일로부터 24개월까지</td>\n",
       "      <td>[차전자피식이섬유] 혈중 콜레스테롤 개선·배변활동 원활에 도움을 줄 수 있음</td>\n",
       "      <td>건강기능식품 원료로 사용</td>\n",
       "      <td>반드시 충분한 물과 함께 섭취할 것 (액상제외)</td>\n",
       "      <td>항목없음</td>\n",
       "      <td>2</td>\n",
       "    </tr>\n",
       "  </tbody>\n",
       "</table>\n",
       "</div>"
      ],
      "text/plain": [
       "   itemID          허가번호             제품명      제조회사  \\\n",
       "0       0  2.004002e+10  해피트루 포스트 바이오틱스  (주)알피바이오   \n",
       "1       1  2.015001e+10        클린차전자피분말   푸른바이오에스   \n",
       "\n",
       "                                          제품타입                       제품분류  \\\n",
       "0  고유의 향미가 있고 이미, 이취가 없는 진한 노랑색 알갱이가 있는 하양색 분말  프로바이오틱스, 프락토올리고당, 아연, 비오틴   \n",
       "1             이미, 이취가 없고 고유의 향미가 있는 밝은 회황색의 분말                   차전자피식이섬유   \n",
       "\n",
       "            유통기한                                                 효능  \\\n",
       "0    제조일로부터 18개월  [프락토올리고당] ①장내 유익균 증식 및 배변활동 원활에 도움을 줄 수 있음\\n\\n...   \n",
       "1  제조일로부터 24개월까지         [차전자피식이섬유] 혈중 콜레스테롤 개선·배변활동 원활에 도움을 줄 수 있음   \n",
       "\n",
       "                               복용법  \\\n",
       "0  1일 1회, 1회 1포를 충분한 물과 함께 섭취하십시오.   \n",
       "1                    건강기능식품 원료로 사용   \n",
       "\n",
       "                                                주의사항 어린이 기호식품  heart  \n",
       "0  [프락토올리고당]\\n (가) 섭취 시 가스참, 트림, 복통, 복부팽만감 등이 발생할...     항목없음      2  \n",
       "1                         반드시 충분한 물과 함께 섭취할 것 (액상제외)     항목없음      2  "
      ]
     },
     "execution_count": 3,
     "metadata": {},
     "output_type": "execute_result"
    }
   ],
   "source": [
    "df_product = pd.read_csv('03(heart열ID열추가)건강기능식품 품목제조 신고사항 현황_건강기능식품 종류 및 효능 - Copy.csv', encoding='utf8', index_col=0).fillna('항목없음')\n",
    "df_product.head(2)"
   ]
  },
  {
   "cell_type": "code",
   "execution_count": 4,
   "metadata": {},
   "outputs": [],
   "source": [
    "# 문구 dense 작업 진행 // 제품분류는 count로, 효능은 tf-idf로 진행\n",
    "# 하기 내용은 고정이므로 추가 함수작업 없이 진행\n",
    "\n",
    "corpus_product_category = []\n",
    "corpus_product_effect = []\n",
    "\n",
    "for i in range(len(df_product)):\n",
    "    doc_temp = ''\n",
    "    doc_temp = df_product['제품분류'].iloc[i]\n",
    "    corpus_product_category.append(doc_temp)\n",
    "\n",
    "\n",
    "for i in range(len(df_product)):\n",
    "    doc_temp = ''\n",
    "    doc_temp = df_product['효능'].iloc[i]\n",
    "    corpus_product_effect.append(doc_temp)\n",
    "    \n",
    "    \n",
    "count_vectorizer = CountVectorizer()\n",
    "tfidf_vectorizer = TfidfVectorizer()\n",
    "count_product_category = count_vectorizer.fit_transform(corpus_product_category).todense()\n",
    "tfidf_product_effect = tfidf_vectorizer.fit_transform(corpus_product_category).todense()"
   ]
  },
  {
   "cell_type": "code",
   "execution_count": 7,
   "metadata": {},
   "outputs": [],
   "source": [
    "## 제품에 따른 위치 확인 필요(index 문제로 iloc으로 찾아야)\n",
    "## product nam은 인풋 항목으로 찾아야\n",
    "\n",
    "def find_index(name):\n",
    "    product_name_no = ''\n",
    "    for i in range(len(df_product)):\n",
    "        if product_name == df_product['제품명'].iloc[i]:\n",
    "            product_name_no = i\n",
    "    \n",
    "    return product_name_no"
   ]
  },
  {
   "cell_type": "code",
   "execution_count": 2,
   "metadata": {},
   "outputs": [],
   "source": [
    "# 코사인 유사도 진행\n",
    "\n",
    "def cosine_similarity_top5(product_name_no):\n",
    "    list_cos_product_category = []\n",
    "    list_cos_product_category = cosine_similarity(count_product_category[product_name_no], count_product_category)\n",
    "    \n",
    "    list_cos_product_effect = []\n",
    "    list_cos_product_effect = cosine_similarity(tfidf_product_effect[product_name_no], tfidf_product_effect)\n",
    "    \n",
    "    # 총점 구하기\n",
    "    \n",
    "    total_product_cos_score = []\n",
    "\n",
    "    for i in range(len(list_cos_product_category[0])):\n",
    "        total_score = ((list_cos_product_category[0][i]) + (list_cos_product_effect[0][i])) / 2\n",
    "        total_product_cos_score.append(total_score)\n",
    "    \n",
    "    # 총점 구한 결과로 제품명과 함께 신규 dataframe 구축 // 작업 중 오류가 있어 list -> dict -> dataframe 으로 변환 작업 진행\n",
    "    \n",
    "    list_total_product_cos_score = np.array(total_product_cos_score).T.tolist()\n",
    "    \n",
    "    list_product = []\n",
    "\n",
    "    for i in range(len(df_product)):\n",
    "        list_product.append(df_product['제품명'].iloc[i])\n",
    "        \n",
    "    dict_temp = {'제품명' : list_product, '코사인 유사도' : list_total_product_cos_score}\n",
    "    df_cos_score = pd.DataFrame(dict_temp)\n",
    "    df_cos_score = df_cos_score.sort_values(by='코사인 유사도', ascending=False).reset_index()\n",
    "    \n",
    "    # Top 5 도출 // 첫 데이터프레임 위치, 제품명 출력\n",
    "    \n",
    "    list_cos_top5 = []\n",
    "\n",
    "    for i in range(1, 6):\n",
    "        list_temp = []\n",
    "        list_temp.append(df_cos_score['index'][i])\n",
    "        list_temp.append(df_cos_score['제품명'][i])\n",
    "        list_cos_top5.append(list_temp)\n",
    "    \n",
    "    # Top 5 항목 data 추출\n",
    "    \n",
    "    df_top5 = df_product.iloc[[list_cos_top5[0][0], \n",
    "                               list_cos_top5[1][0], \n",
    "                               list_cos_top5[2][0], \n",
    "                               list_cos_top5[3][0], \n",
    "                               list_cos_top5[4][0]]]\n",
    "\n",
    " \n",
    "    return df_top5"
   ]
  },
  {
   "cell_type": "code",
   "execution_count": 9,
   "metadata": {},
   "outputs": [
    {
     "data": {
      "text/html": [
       "<div>\n",
       "<style scoped>\n",
       "    .dataframe tbody tr th:only-of-type {\n",
       "        vertical-align: middle;\n",
       "    }\n",
       "\n",
       "    .dataframe tbody tr th {\n",
       "        vertical-align: top;\n",
       "    }\n",
       "\n",
       "    .dataframe thead th {\n",
       "        text-align: right;\n",
       "    }\n",
       "</style>\n",
       "<table border=\"1\" class=\"dataframe\">\n",
       "  <thead>\n",
       "    <tr style=\"text-align: right;\">\n",
       "      <th></th>\n",
       "      <th>itemID</th>\n",
       "      <th>허가번호</th>\n",
       "      <th>제품명</th>\n",
       "      <th>제조회사</th>\n",
       "      <th>제품타입</th>\n",
       "      <th>제품분류</th>\n",
       "      <th>유통기한</th>\n",
       "      <th>효능</th>\n",
       "      <th>복용법</th>\n",
       "      <th>주의사항</th>\n",
       "      <th>어린이 기호식품</th>\n",
       "      <th>heart</th>\n",
       "    </tr>\n",
       "  </thead>\n",
       "  <tbody>\n",
       "    <tr>\n",
       "      <th>7337</th>\n",
       "      <td>7337</td>\n",
       "      <td>2.004002e+10</td>\n",
       "      <td>프리바이오틱스</td>\n",
       "      <td>아미코젠(주)</td>\n",
       "      <td>이미, 이취가 없는 미백색의 분말</td>\n",
       "      <td>프로바이오틱스, 프락토올리고당, 아연</td>\n",
       "      <td>제조일로부터 18개월</td>\n",
       "      <td>①유산균 증식 및 유해균 억제·배변활동 원활에 도움을 줄 수 있음 \\n\\n① 장내 ...</td>\n",
       "      <td>1일 1회, 1회 1포를 그대로 섭취하거나 물과 함께 섭취하십시오.</td>\n",
       "      <td>1) 질환이 있거나 의약품 복용 시 전문가와 상담할 것\\n2) 알레르기 체질 등은 ...</td>\n",
       "      <td>항목없음</td>\n",
       "      <td>4</td>\n",
       "    </tr>\n",
       "    <tr>\n",
       "      <th>626</th>\n",
       "      <td>626</td>\n",
       "      <td>2.004002e+10</td>\n",
       "      <td>하양공쥬 닥터스 신프로프리바이오틱스</td>\n",
       "      <td>(주)유유헬스케어</td>\n",
       "      <td>고유의 향미가 있고 이미, 이취가 없는 백색의 분말</td>\n",
       "      <td>프락토올리고당, 프로바이오틱스, 아연</td>\n",
       "      <td>제조일로부터 24개월</td>\n",
       "      <td>장내 유익균 증식 및 배변활동 원활에 도움을 줄 수 있음\\n\\n유산균 증식 및 유해...</td>\n",
       "      <td>1일 1회, 1회 1포를 충분한 물과 함께 섭취하십시오.</td>\n",
       "      <td>(가) 섭취 시 가스참, 트림, 복통, 복부팽만감 등이 발생할 수 있음\\n(나) 이...</td>\n",
       "      <td>항목없음</td>\n",
       "      <td>2</td>\n",
       "    </tr>\n",
       "    <tr>\n",
       "      <th>6473</th>\n",
       "      <td>6473</td>\n",
       "      <td>2.020001e+10</td>\n",
       "      <td>몬스터 바이오틱스 100억</td>\n",
       "      <td>농업회사법인 주식회사 내츄럴엔</td>\n",
       "      <td>이미, 이취가 없고 고유의 향미가 있는 미백색의 분말</td>\n",
       "      <td>프로바이오틱스, 아연, 프락토올리고당</td>\n",
       "      <td>제조일로부터 18개월</td>\n",
       "      <td>① 유산균 증식 및 유해균 억제에 도움을 줄 수 있음 ②배변활동 원활에 도움을 줄 ...</td>\n",
       "      <td>1일 1회, 1회 1포(5g)를 직접 또는 물과 함께 섭취하십시오.</td>\n",
       "      <td>1. 질환이 있거나 의약품 복용 시 전문가와 상담할 것\\n2. 알레르기 체질 등은 ...</td>\n",
       "      <td>항목없음</td>\n",
       "      <td>1</td>\n",
       "    </tr>\n",
       "    <tr>\n",
       "      <th>6480</th>\n",
       "      <td>6480</td>\n",
       "      <td>2.004002e+10</td>\n",
       "      <td>이너락토플러스</td>\n",
       "      <td>(주)비오팜</td>\n",
       "      <td>이미, 이취가 없고 고유의 향미가 있는 백색의 분말</td>\n",
       "      <td>아연, 프로바이오틱스, 프락토올리고당</td>\n",
       "      <td>제조일로부터 18개월</td>\n",
       "      <td>[프락토올리고당] ① 장내 유익균 증식 및 배변활동 원활에 도움을 줄 수 있음\\n[...</td>\n",
       "      <td>1일 1회, 1회 1포를 직접 또는 물과 함께 섭취하십시오.</td>\n",
       "      <td>- 질환이 있거나 의약품 복용 시 전문가와 상담할 것\\n- 알레르기 체질 등은 개인...</td>\n",
       "      <td>항목없음</td>\n",
       "      <td>2</td>\n",
       "    </tr>\n",
       "    <tr>\n",
       "      <th>6564</th>\n",
       "      <td>6564</td>\n",
       "      <td>2.004002e+10</td>\n",
       "      <td>프로프리 신바이오틱스 생유산균</td>\n",
       "      <td>(주)녹십초알로에</td>\n",
       "      <td>이미, 이취가 없고 고유의 향미가 있는 백색의 분말</td>\n",
       "      <td>프로바이오틱스, 프락토올리고당, 아연</td>\n",
       "      <td>제조일로부터 18개월</td>\n",
       "      <td>유산균 증식 및 유해균 억제·배변활동 원활에 도움을 줄 수 있음\\n\\n① 유익균 증...</td>\n",
       "      <td>1일 1회, 1회 1포를 직접 섭취하거나 물, 음료 등과 같이 섭취하십시오.</td>\n",
       "      <td>(가) 질환이 있거나 의약품 복용 시 전문가와 상담할 것 (나) 알레르기 체질 등은...</td>\n",
       "      <td>항목없음</td>\n",
       "      <td>1</td>\n",
       "    </tr>\n",
       "  </tbody>\n",
       "</table>\n",
       "</div>"
      ],
      "text/plain": [
       "      itemID          허가번호                  제품명              제조회사  \\\n",
       "7337    7337  2.004002e+10              프리바이오틱스           아미코젠(주)   \n",
       "626      626  2.004002e+10  하양공쥬 닥터스 신프로프리바이오틱스         (주)유유헬스케어   \n",
       "6473    6473  2.020001e+10       몬스터 바이오틱스 100억  농업회사법인 주식회사 내츄럴엔   \n",
       "6480    6480  2.004002e+10              이너락토플러스            (주)비오팜   \n",
       "6564    6564  2.004002e+10     프로프리 신바이오틱스 생유산균         (주)녹십초알로에   \n",
       "\n",
       "                               제품타입                  제품분류         유통기한  \\\n",
       "7337             이미, 이취가 없는 미백색의 분말  프로바이오틱스, 프락토올리고당, 아연  제조일로부터 18개월   \n",
       "626    고유의 향미가 있고 이미, 이취가 없는 백색의 분말  프락토올리고당, 프로바이오틱스, 아연  제조일로부터 24개월   \n",
       "6473  이미, 이취가 없고 고유의 향미가 있는 미백색의 분말  프로바이오틱스, 아연, 프락토올리고당  제조일로부터 18개월   \n",
       "6480   이미, 이취가 없고 고유의 향미가 있는 백색의 분말  아연, 프로바이오틱스, 프락토올리고당  제조일로부터 18개월   \n",
       "6564   이미, 이취가 없고 고유의 향미가 있는 백색의 분말  프로바이오틱스, 프락토올리고당, 아연  제조일로부터 18개월   \n",
       "\n",
       "                                                     효능  \\\n",
       "7337  ①유산균 증식 및 유해균 억제·배변활동 원활에 도움을 줄 수 있음 \\n\\n① 장내 ...   \n",
       "626   장내 유익균 증식 및 배변활동 원활에 도움을 줄 수 있음\\n\\n유산균 증식 및 유해...   \n",
       "6473  ① 유산균 증식 및 유해균 억제에 도움을 줄 수 있음 ②배변활동 원활에 도움을 줄 ...   \n",
       "6480  [프락토올리고당] ① 장내 유익균 증식 및 배변활동 원활에 도움을 줄 수 있음\\n[...   \n",
       "6564  유산균 증식 및 유해균 억제·배변활동 원활에 도움을 줄 수 있음\\n\\n① 유익균 증...   \n",
       "\n",
       "                                             복용법  \\\n",
       "7337       1일 1회, 1회 1포를 그대로 섭취하거나 물과 함께 섭취하십시오.   \n",
       "626              1일 1회, 1회 1포를 충분한 물과 함께 섭취하십시오.   \n",
       "6473       1일 1회, 1회 1포(5g)를 직접 또는 물과 함께 섭취하십시오.   \n",
       "6480           1일 1회, 1회 1포를 직접 또는 물과 함께 섭취하십시오.   \n",
       "6564  1일 1회, 1회 1포를 직접 섭취하거나 물, 음료 등과 같이 섭취하십시오.   \n",
       "\n",
       "                                                   주의사항 어린이 기호식품  heart  \n",
       "7337  1) 질환이 있거나 의약품 복용 시 전문가와 상담할 것\\n2) 알레르기 체질 등은 ...     항목없음      4  \n",
       "626   (가) 섭취 시 가스참, 트림, 복통, 복부팽만감 등이 발생할 수 있음\\n(나) 이...     항목없음      2  \n",
       "6473  1. 질환이 있거나 의약품 복용 시 전문가와 상담할 것\\n2. 알레르기 체질 등은 ...     항목없음      1  \n",
       "6480  - 질환이 있거나 의약품 복용 시 전문가와 상담할 것\\n- 알레르기 체질 등은 개인...     항목없음      2  \n",
       "6564  (가) 질환이 있거나 의약품 복용 시 전문가와 상담할 것 (나) 알레르기 체질 등은...     항목없음      1  "
      ]
     },
     "execution_count": 9,
     "metadata": {},
     "output_type": "execute_result"
    }
   ],
   "source": [
    "cosine_similarity_top5(find_index('해피트루 포스트 바이오틱스'))"
   ]
  },
  {
   "cell_type": "code",
   "execution_count": 3,
   "metadata": {},
   "outputs": [],
   "source": [
    "# ==================================================="
   ]
  },
  {
   "cell_type": "code",
   "execution_count": 5,
   "metadata": {},
   "outputs": [],
   "source": [
    "# 유사도분석 건강기능식품 추천 코드입니다 \n",
    "import numpy as np\n",
    "import pandas as pd\n",
    "from sklearn.feature_extraction.text import TfidfVectorizer, CountVectorizer\n",
    "from sklearn.metrics.pairwise import cosine_similarity\n",
    "\n",
    "\n",
    "def vectorize_item(df_item):\n",
    "# 문구 dense 작업 진행 // 제품분류는 count로, 효능은 tf-idf로 진행\n",
    "# 하기 내용은 고정이므로 추가 함수작업 없이 진행\n",
    "    corpus_product_category = []\n",
    "    corpus_product_effect = []\n",
    "\n",
    "    for i in range(len(df_item)):\n",
    "        doc_temp = ''\n",
    "        doc_temp = df_item['제품분류'].iloc[i]\n",
    "        corpus_product_category.append(doc_temp)\n",
    "\n",
    "\n",
    "    for i in range(len(df_item)):\n",
    "        doc_temp = ''\n",
    "        doc_temp = df_item['효능'].iloc[i]\n",
    "        corpus_product_effect.append(doc_temp)\n",
    "\n",
    "    count_vectorizer = CountVectorizer()\n",
    "    tfidf_vectorizer = TfidfVectorizer()\n",
    "    \n",
    "    count_product_category = count_vectorizer.fit_transform(corpus_product_category).todense()\n",
    "    tfidf_product_effect = tfidf_vectorizer.fit_transform(corpus_product_category).todense()\n",
    "    return count_product_category,tfidf_product_effect\n",
    "\n",
    "# 코사인 유사도 진행\n",
    "\n",
    "def cosine_similarity_top5(count_product_category,tfidf_product_effect, item_name,df_item):\n",
    "    # get item index\n",
    "    product_name_no = ''\n",
    "    for i in range(len(df_item)):\n",
    "        if item_name == df_item['제품명'].iloc[i]:\n",
    "            product_name_no = i\n",
    "    \n",
    "    list_cos_product_category = []\n",
    "    list_cos_product_category = cosine_similarity(count_product_category[product_name_no], count_product_category)\n",
    "    \n",
    "    list_cos_product_effect = []\n",
    "    list_cos_product_effect = cosine_similarity(tfidf_product_effect[product_name_no], tfidf_product_effect)\n",
    "    \n",
    "    # 총점 구하기\n",
    "    total_product_cos_score = []\n",
    "    for i in range(len(list_cos_product_category[0])):\n",
    "        total_score = ((list_cos_product_category[0][i]) + (list_cos_product_effect[0][i])) / 2\n",
    "        total_product_cos_score.append(total_score)\n",
    "    \n",
    "    # 총점 구한 결과로 제품명과 함께 신규 dataframe 구축 // 작업 중 오류가 있어 list -> dict -> dataframe 으로 변환 작업 진행\n",
    "    list_total_product_cos_score = np.array(total_product_cos_score).T.tolist()\n",
    "    \n",
    "    list_product = []\n",
    "    for i in range(len(df_item)):\n",
    "        list_product.append(df_item['제품명'].iloc[i])\n",
    "    dict_temp = {'제품명' : list_product, '코사인 유사도' : list_total_product_cos_score}\n",
    "    df_cos_score = pd.DataFrame(dict_temp)\n",
    "    df_cos_score = df_cos_score.sort_values(by='코사인 유사도', ascending=False).reset_index()\n",
    "    \n",
    "    # Top 5 도출 // 첫 데이터프레임 위치, 제품명 출력\n",
    "    items_top5_list = list(df_cos_score['index'][1:6])\n",
    "    return items_top5_list\n"
   ]
  },
  {
   "cell_type": "code",
   "execution_count": 10,
   "metadata": {},
   "outputs": [
    {
     "data": {
      "text/plain": [
       "[2142, 5551, 4133, 12902, 20473]"
      ]
     },
     "execution_count": 10,
     "metadata": {},
     "output_type": "execute_result"
    }
   ],
   "source": [
    "df_item = pd.read_csv(\"03itemdf.csv\")\n",
    "\n",
    "count_product_category,tfidf_product_effect = vectorize_item(df_item)\n",
    "\n",
    "result = cosine_similarity_top5(count_product_category,tfidf_product_effect,'프리바이오틱스',df_item)\n",
    "\n",
    "result"
   ]
  },
  {
   "cell_type": "code",
   "execution_count": 15,
   "metadata": {},
   "outputs": [
    {
     "data": {
      "text/plain": [
       "matrix([[0., 0., 0., ..., 0., 0., 0.],\n",
       "        [0., 0., 0., ..., 0., 0., 0.],\n",
       "        [0., 0., 0., ..., 0., 0., 0.],\n",
       "        ...,\n",
       "        [0., 0., 0., ..., 0., 0., 0.],\n",
       "        [0., 0., 0., ..., 0., 0., 0.],\n",
       "        [0., 0., 0., ..., 0., 0., 0.]])"
      ]
     },
     "execution_count": 15,
     "metadata": {},
     "output_type": "execute_result"
    }
   ],
   "source": [
    "import numpy\n",
    "count_product_category\n",
    "count_product_category.dump(\"count_product_category.dat\")\n",
    "count_product_category = numpy.load(\"count_product_category.dat\")\n",
    "mat"
   ]
  },
  {
   "cell_type": "code",
   "execution_count": 20,
   "metadata": {},
   "outputs": [],
   "source": [
    "# count_product_category\n",
    "# np.savetxt('test1.txt', count_product_category, fmt='%d')\n",
    "# b = np.loadtxt('test1.txt', dtype=int)\n",
    "# a==ba"
   ]
  },
  {
   "cell_type": "code",
   "execution_count": 7,
   "metadata": {},
   "outputs": [],
   "source": [
    "# corpus_product_category = []\n",
    "# corpus_product_effect = []\n",
    "\n",
    "# for i in range(len(df_product)):\n",
    "#     doc_temp = ''\n",
    "#     doc_temp = df_product['제품분류'].iloc[i]\n",
    "#     corpus_product_category.append(doc_temp)\n",
    "\n",
    "\n",
    "# for i in range(len(df_product)):\n",
    "#     doc_temp = ''\n",
    "#     doc_temp = df_product['효능'].iloc[i]\n",
    "#     corpus_product_effect.append(doc_temp)\n",
    "\n",
    "    \n",
    "    \n",
    "# len(corpus_product_category)\n",
    "# len(corpus_product_effect)"
   ]
  },
  {
   "cell_type": "code",
   "execution_count": 8,
   "metadata": {},
   "outputs": [],
   "source": [
    "# # 분류의 경우 카테고리이기 때문에 카운트 벡터라이져 사용\n",
    "# # 효능의 경우 신체기관 및 기타 내용도 함께 들어가 있기 때문에 tf-idf 사용(분류 재료 별 효능이 동일하게 입력되기 때문)\n",
    "\n",
    "# count_vectorizer = CountVectorizer()\n",
    "# tfidf_vectorizer = TfidfVectorizer()\n",
    "# count_product_category = count_vectorizer.fit_transform(corpus_product_category).todense()\n",
    "# tfidf_product_effect = tfidf_vectorizer.fit_transform(corpus_product_category).todense()\n"
   ]
  },
  {
   "cell_type": "code",
   "execution_count": 9,
   "metadata": {},
   "outputs": [],
   "source": [
    "# type(count_product_category)"
   ]
  },
  {
   "cell_type": "code",
   "execution_count": 10,
   "metadata": {},
   "outputs": [],
   "source": [
    "# ## 제품에 따른 위치 확인 필요(index 문제로 iloc으로 찾아야)\n",
    "# ## product nam은 인풋 항목으로 찾아야\n",
    "\n",
    "# product_name = '해피트루 포스트 바이오틱스'\n",
    "# product_name_no = ''\n",
    "\n",
    "# for i in range(len(df_product)):\n",
    "#     if product_name == df_product['제품명'].iloc[i]:\n",
    "#         product_name_no = i\n",
    "#         print(i)"
   ]
  },
  {
   "cell_type": "code",
   "execution_count": 11,
   "metadata": {},
   "outputs": [],
   "source": [
    "# list_cos_product_category = []\n",
    "# list_cos_product_category = cosine_similarity(count_product_category[product_name_no], count_product_category)\n",
    "\n",
    "# # for i in range(len(count_product_category)):\n",
    "# #     list_cos_product_category.append(cosine_similarity(count_product_category[product_name_no], count_product_category[i]).tolist())\n",
    "\n"
   ]
  },
  {
   "cell_type": "code",
   "execution_count": 12,
   "metadata": {},
   "outputs": [],
   "source": [
    "# len(list_cos_product_category)"
   ]
  },
  {
   "cell_type": "code",
   "execution_count": 13,
   "metadata": {
    "scrolled": true
   },
   "outputs": [],
   "source": [
    "# list_cos_product_category[0:10]"
   ]
  },
  {
   "cell_type": "code",
   "execution_count": 14,
   "metadata": {},
   "outputs": [],
   "source": [
    "# tfidf_product_effect.shape"
   ]
  },
  {
   "cell_type": "code",
   "execution_count": 15,
   "metadata": {
    "scrolled": true
   },
   "outputs": [],
   "source": [
    "# cosine_similarity(tfidf_product_effect[product_name_no], tfidf_product_effect)"
   ]
  },
  {
   "cell_type": "code",
   "execution_count": 16,
   "metadata": {},
   "outputs": [],
   "source": [
    "# list_cos_product_effect = []\n",
    "# list_cos_product_effect = cosine_similarity(tfidf_product_effect[product_name_no], tfidf_product_effect)"
   ]
  },
  {
   "cell_type": "code",
   "execution_count": 17,
   "metadata": {},
   "outputs": [],
   "source": [
    "# list_cos_product_effect[0]"
   ]
  },
  {
   "cell_type": "code",
   "execution_count": 18,
   "metadata": {
    "scrolled": true
   },
   "outputs": [],
   "source": [
    "# len(list_cos_product_effect)"
   ]
  },
  {
   "cell_type": "code",
   "execution_count": 19,
   "metadata": {
    "scrolled": true
   },
   "outputs": [],
   "source": [
    "# list_cos_product_effect[0]"
   ]
  },
  {
   "cell_type": "code",
   "execution_count": 20,
   "metadata": {},
   "outputs": [],
   "source": [
    "# # 인풋받은 제품의 제품 분류와 효능의 각각 코사인 유사도를 더하여 최종 값 출력하여 최종 점수 출력\n",
    "\n",
    "# total_product_cos_score = []\n",
    "\n",
    "# for i in range(len(list_cos_product_category[0])):\n",
    "#     total_score = ((list_cos_product_category[0][i]) + (list_cos_product_effect[0][i])) / 2\n",
    "#     total_product_cos_score.append(total_score)\n"
   ]
  },
  {
   "cell_type": "code",
   "execution_count": 21,
   "metadata": {},
   "outputs": [],
   "source": [
    "# total_product_cos_score"
   ]
  },
  {
   "cell_type": "code",
   "execution_count": 22,
   "metadata": {},
   "outputs": [],
   "source": [
    "# list_total_product_cos_score = np.array(total_product_cos_score).T.tolist()\n",
    "# list_total_product_cos_score"
   ]
  },
  {
   "cell_type": "code",
   "execution_count": 23,
   "metadata": {},
   "outputs": [],
   "source": [
    "# list_product = []\n",
    "\n",
    "# for i in range(len(df_product)):\n",
    "#     list_product.append(df_product['제품명'].iloc[i])\n",
    "    \n",
    "# list_product"
   ]
  },
  {
   "cell_type": "code",
   "execution_count": 24,
   "metadata": {},
   "outputs": [],
   "source": [
    "# dict_temp = {'제품명' : list_product, '코사인 유사도' : list_total_product_cos_score}\n",
    "# df_cos_score = pd.DataFrame(dict_temp)\n",
    "# df_cos_score.head()"
   ]
  },
  {
   "cell_type": "code",
   "execution_count": 25,
   "metadata": {},
   "outputs": [],
   "source": [
    "# df_cos_score = df_cos_score.sort_values(by='코사인 유사도', ascending=False).reset_index()\n",
    "# df_cos_score.head(6)"
   ]
  },
  {
   "cell_type": "code",
   "execution_count": 26,
   "metadata": {},
   "outputs": [],
   "source": [
    "# list_cos_top5 = []\n",
    "\n",
    "# for i in range(1, 6):\n",
    "#     list_cos_top5.append(df_cos_score['제품명'][i])\n",
    "    \n",
    "# list_cos_top5"
   ]
  },
  {
   "cell_type": "code",
   "execution_count": null,
   "metadata": {},
   "outputs": [],
   "source": []
  }
 ],
 "metadata": {
  "kernelspec": {
   "display_name": "Python 3",
   "language": "python",
   "name": "python3"
  },
  "language_info": {
   "codemirror_mode": {
    "name": "ipython",
    "version": 3
   },
   "file_extension": ".py",
   "mimetype": "text/x-python",
   "name": "python",
   "nbconvert_exporter": "python",
   "pygments_lexer": "ipython3",
   "version": "3.7.6"
  },
  "toc": {
   "base_numbering": 1,
   "nav_menu": {},
   "number_sections": true,
   "sideBar": true,
   "skip_h1_title": false,
   "title_cell": "Table of Contents",
   "title_sidebar": "Contents",
   "toc_cell": false,
   "toc_position": {},
   "toc_section_display": true,
   "toc_window_display": false
  }
 },
 "nbformat": 4,
 "nbformat_minor": 2
}
