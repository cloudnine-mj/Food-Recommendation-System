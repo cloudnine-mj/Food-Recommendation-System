{
 "cells": [
  {
   "cell_type": "markdown",
   "metadata": {
    "id": "ecjFXx_lDDlH"
   },
   "source": [
    "## 질환별 식사습관 web scraping - 서울 아산병원\n",
    "http://www.amc.seoul.kr/asan/healthinfo/mealtherapy/mealTherapyList.do\n"
   ]
  },
  {
   "cell_type": "code",
   "execution_count": null,
   "metadata": {
    "id": "wXNxCTLNv_VV"
   },
   "outputs": [],
   "source": [
    "# !pip install beautifulsoup4==4.7.1"
   ]
  },
  {
   "cell_type": "code",
   "execution_count": 1,
   "metadata": {
    "id": "tiyt4IEFxmF_"
   },
   "outputs": [],
   "source": [
    "from bs4 import BeautifulSoup \n",
    "from urllib.request import urlopen \n",
    "import pandas as pd"
   ]
  },
  {
   "cell_type": "code",
   "execution_count": 2,
   "metadata": {
    "id": "_Ilou-UJycIf"
   },
   "outputs": [],
   "source": [
    "# 협심증, 비만, 고혈압, 뇌졸중, 당뇨병, 천식, 아토피성 피부염, 간염 (급성 바이러스성 간염), 빈혈 (철결핍빈혈), 심근경색증\n",
    "\n",
    "chronic = ['협심증', '비만', '고혈압', '뇌졸중', '당뇨병', '천식', '아토피', '간염', '빈혈', '심근경색증']\n",
    "urls = ['http://www.amc.seoul.kr/asan/healthinfo/mealtherapy/mealTherapyDetail.do?mtId=117', # 협심증/협심증식 \n",
    "        'http://www.amc.seoul.kr/asan/healthinfo/mealtherapy/mealTherapyDetail.do?mtId=80', # 비만/열량조절\n",
    "        'http://www.amc.seoul.kr/asan/healthinfo/mealtherapy/mealTherapyDetail.do?mtId=29', # 고혈압/고혈압식\n",
    "        'http://www.amc.seoul.kr/asan/healthinfo/mealtherapy/mealTherapyDetail.do?mtId=41', # 뇌졸중/뇌졸중식\n",
    "        'http://www.amc.seoul.kr/asan/healthinfo/mealtherapy/mealTherapyDetail.do?mtId=46', # 당뇨병/당뇨병식\n",
    "        'http://www.amc.seoul.kr/asan/healthinfo/mealtherapy/mealTherapyDetail.do?mtId=104', # 천식/천식식딘\n",
    "        'http://www.amc.seoul.kr/asan/healthinfo/mealtherapy/mealTherapyDetail.do?mtId=77', # 아토피/아토피성 피부염식\n",
    "        'http://www.amc.seoul.kr/asan/healthinfo/mealtherapy/mealTherapyDetail.do?mtId=59', # 간염/바이러스성 간염식\n",
    "        'http://www.amc.seoul.kr/asan/healthinfo/mealtherapy/mealTherapyDetail.do?mtId=63', # 빈혈/빈혈\n",
    "        'http://www.amc.seoul.kr/asan/healthinfo/mealtherapy/mealTherapyDetail.do?mtId=75'] # 심근경색증/심근경색식"
   ]
  },
  {
   "cell_type": "code",
   "execution_count": 3,
   "metadata": {
    "id": "OmrEL9PUxmvD"
   },
   "outputs": [],
   "source": [
    "def bs_web(url):\n",
    "  # urlopen 함수를 통해 web 변수를 생성\n",
    "  web = urlopen(url)   # urlopen(url).read().decode('utf-8')\n",
    "\n",
    "  # BeautifulSoup으로 web 페이지상의 HTML 구조를 파싱\n",
    "  web_page = BeautifulSoup(web, 'html.parser')\n",
    "\n",
    "  return web_page"
   ]
  },
  {
   "cell_type": "code",
   "execution_count": 4,
   "metadata": {
    "id": "vsVjNgoX1YYN"
   },
   "outputs": [],
   "source": [
    "pages = {}\n",
    "\n",
    "for i in range(len(urls)):\n",
    "  # get url\n",
    "  url = urls[i]\n",
    "\n",
    "  # key == disease\n",
    "  # value == diet description\n",
    "  # pages[chronic[i]] = bs_web(url).find('div', {'class': 'contDescription'}).get_text()\n",
    "  pages[chronic[i]] = bs_web(url).find('div', {'class': 'contDescription'})"
   ]
  },
  {
   "cell_type": "code",
   "execution_count": 5,
   "metadata": {
    "id": "El9KFgjNorla"
   },
   "outputs": [],
   "source": [
    "def make_dict(disease):\n",
    "  disease = str(disease).split('<dt class=\"dep2Title\">')\n",
    "  disease = disease[1:len(disease)-1] # 처음과 마지막 (불필요한 정보) 제거\n",
    "  d_dict = dict(x.split(\"</dt>\\n<dd><p>\") for x in disease) # dict로 만들기\n",
    "  return d_dict\n",
    "\n",
    "def clean(d_dict):\n",
    "  for k,v in d_dict.items():\n",
    "    d_dict[k] = BeautifulSoup(d_dict[k], 'html.parser').get_text().strip() # 불필요한 html 태그 제거\n",
    "    # html_tags = [\"\\xa0\", \"\\n\", \"\\r\"]\n",
    "    d_dict[k] = d_dict[k].replace(\"\\r\\n\", \" \")\n",
    "    d_dict[k] = d_dict[k].replace(\"\\xa0\", \"\")\n",
    "  return d_dict"
   ]
  },
  {
   "cell_type": "code",
   "execution_count": 6,
   "metadata": {
    "id": "BYj32Mjw1xHc"
   },
   "outputs": [],
   "source": [
    "disease_dict = {}\n",
    "disease_dict['angina_pectoris'] = pages['협심증']\n",
    "disease_dict['obesity'] = pages['비만']\n",
    "disease_dict['primary_hypertension'] = pages['고혈압']\n",
    "disease_dict['cerebrovascular_disease'] = pages['뇌졸중']\n",
    "disease_dict['diabetes'] = pages['당뇨병']\n",
    "disease_dict['asthma'] = pages['천식']\n",
    "disease_dict['atopic_dermatitis'] = pages['아토피']\n",
    "disease_dict['hepatitis'] = pages['간염']\n",
    "disease_dict['anemia'] = pages['빈혈']\n",
    "disease_dict['myocardial_infarction'] = pages['심근경색증']"
   ]
  },
  {
   "cell_type": "code",
   "execution_count": 7,
   "metadata": {
    "id": "b2lsRPgv4ZuZ"
   },
   "outputs": [],
   "source": [
    "for k,v in disease_dict.items():\n",
    "  disease_dict[k] = clean(make_dict(disease_dict[k]))"
   ]
  },
  {
   "cell_type": "code",
   "execution_count": 8,
   "metadata": {
    "colab": {
     "base_uri": "https://localhost:8080/"
    },
    "id": "QiOi3XpH_8on",
    "outputId": "81300b64-faea-457a-af00-63df0d712dd0"
   },
   "outputs": [
    {
     "data": {
      "text/plain": [
       "{'권장 식품': '색이 짙은 살코기, 생선, 계란, 우유 및 유제품, 색이 짙은 채소, 과일',\n",
       " '그 외 주의사항': '조혈모세포이식 직후에는 멸균식(sterile diet)을 하도록 합니다. 1. 동물성 식품은 반드시 익혀서 섭취합니다. 2. 야채는 익혀서, 과일은 세정 후 껍질을 벗겨서 섭취합니다. 3. 시판 제품 중 살균, 멸균 조리된 제품을 이용합니다. 4. 조리된 식품은 2시간 이내에 냉장보관하며, 24시간내 먹도록 합니다. 5. 조리 전, 식사 전에 손을 깨끗이 씻도록 합니다. 6. 가공식품은 유통기한을 확인하도록 합니다.',\n",
       " '식사요법의 실제': '1. 규칙적이고 다양한 식품섭취를 합니다. 2. 스테로이드 사용 시 과다한 염분 섭취는 삼가합니다. 3. 구강내 점막염이 발생한 경우 지나치게 차거나 뜨거운 음식, 향이 강한 식품, 신 음식, 거친 음식의 섭취는 삼가하도록 합니다. 4. 매끼 살코기, 생선, 계란 등의 동물성 단백질을 규칙적으로 섭취합니다. 5. 철분 흡수를 돕는 비타민C의 보충을 위해 과일이나 채소류를 규칙적으로 섭취합니다. 6. 철의 흡수를 방해하는 커피, 홍차, 녹차 등은 식사 전후를 피해서 마시도록 합니다.',\n",
       " '식사요법의 필요성': '철 결핍성 빈혈은 가장 흔하게 나타나는 빈혈로, 적혈구를 만드는 주요한 영양소인 철의 부족으로 헤모글로빈 합성이 저하되어 발생합니다. 성인의 하루 철 섭취권장량은 남자 10㎎, 여자 14㎎ 로 권고되고 있습니다. 무엇보다 거의 모든 영양소가 혈액을 만드는데 필요하므로 골고루 균형있게 섭취하는 것이 매우 중요합니다.',\n",
       " '주의 식품': '카페인 음료, 녹즙, 엑기스, 날 음식'}"
      ]
     },
     "execution_count": 8,
     "metadata": {
      "tags": []
     },
     "output_type": "execute_result"
    }
   ],
   "source": [
    "disease_dict['anemia']"
   ]
  },
  {
   "cell_type": "code",
   "execution_count": 9,
   "metadata": {
    "id": "l2rYIIcqAHSS"
   },
   "outputs": [],
   "source": [
    "rec_food = {}\n",
    "rec_food = dict(disease_dict)\n",
    "for disease in rec_food.keys():\n",
    "  rec_food[disease] = disease_dict[disease]['권장 식품']"
   ]
  },
  {
   "cell_type": "code",
   "execution_count": 10,
   "metadata": {
    "colab": {
     "base_uri": "https://localhost:8080/"
    },
    "id": "8ZhmiSp5Btf4",
    "outputId": "e383f245-eb9d-4497-a420-baee1878dac3"
   },
   "outputs": [
    {
     "data": {
      "text/plain": [
       "{'anemia': '색이 짙은 살코기, 생선, 계란, 우유 및 유제품, 색이 짙은 채소, 과일',\n",
       " 'angina_pectoris': '신선한 채소를 비롯한 잡곡, 저지방 어육류, 생선, 두부 그리고 제철 과일과 우유 등 균형잡힌 식사',\n",
       " 'asthma': '살코기, 생선, 두부, 신선한 채소 및 과일',\n",
       " 'atopic_dermatitis': '식품 알레르기와 같이 있는 경우 알레르기 원인 식품을 제외한 모든 음식, 특히 단백질과 아연이 풍부한 육류를 충분히 섭취하는 것이 좋습니다',\n",
       " 'cerebrovascular_disease': \"1. 물, 주스, 우유 등 액상 형태의 대부분의 식품은 '점도증진제(음식의 점도 조절용)'를 섞어서 섭취할 수 있습니다. 2. 삼킴 장애가 심하고 씹지 못 할 때는 밥보다는 죽을 쑤어 블렌더로 곱게 갈아 꿀농도만큼 걸쭉하게 드시길 권장합니다. 반찬(고기, 생선살 나물 등)도 익힌 후 죽을 함께 넣고 블렌더로 곱게 갈아 걸쭉하게 드실 수 있습니다. 3. 우유 대신 요거트를 권장합니다.\",\n",
       " 'diabetes': '채소류, 열량이 적은 식품(곤약, 해조류, 버섯류, 우뭇가사리, 등)',\n",
       " 'hepatitis': '밥, 떡, 감자, 고구마, 과일, 야채, 단백질 식품( 살코기, 생선, 계란, 두부, 콩 등 )',\n",
       " 'myocardial_infarction': '신선한 채소를 비롯한 잡곡, 저지방 어육류, 생선, 두부 그리고 제철 과일과 우유 등 균형잡힌 식사',\n",
       " 'obesity': '채소류, 해조류, 곤약, 무가당 차음료(녹차 등), 물(보리차, 생수, 탄산수 등)',\n",
       " 'primary_hypertension': '신선한 채소를 비롯한 잡곡, 어육류, 생선, 두부, 견과류 그리고 제철 과일과 우유 등 균형잡힌 식사'}"
      ]
     },
     "execution_count": 10,
     "metadata": {
      "tags": []
     },
     "output_type": "execute_result"
    }
   ],
   "source": [
    "rec_food"
   ]
  },
  {
   "cell_type": "code",
   "execution_count": 11,
   "metadata": {
    "colab": {
     "base_uri": "https://localhost:8080/",
     "height": 142
    },
    "id": "3r_9F6Pl9dvV",
    "outputId": "48a1f815-2c07-4360-81b8-9f3674b09895"
   },
   "outputs": [
    {
     "data": {
      "text/html": [
       "<div>\n",
       "<style scoped>\n",
       "    .dataframe tbody tr th:only-of-type {\n",
       "        vertical-align: middle;\n",
       "    }\n",
       "\n",
       "    .dataframe tbody tr th {\n",
       "        vertical-align: top;\n",
       "    }\n",
       "\n",
       "    .dataframe thead th {\n",
       "        text-align: right;\n",
       "    }\n",
       "</style>\n",
       "<table border=\"1\" class=\"dataframe\">\n",
       "  <thead>\n",
       "    <tr style=\"text-align: right;\">\n",
       "      <th></th>\n",
       "      <th>질환명</th>\n",
       "      <th>질환별 추천 식품</th>\n",
       "    </tr>\n",
       "  </thead>\n",
       "  <tbody>\n",
       "    <tr>\n",
       "      <th>0</th>\n",
       "      <td>angina_pectoris</td>\n",
       "      <td>신선한 채소를 비롯한 잡곡, 저지방 어육류, 생선, 두부 그리고 제철 과일과 우유 ...</td>\n",
       "    </tr>\n",
       "    <tr>\n",
       "      <th>1</th>\n",
       "      <td>obesity</td>\n",
       "      <td>채소류, 해조류, 곤약, 무가당 차음료(녹차 등), 물(보리차, 생수, 탄산수 등)</td>\n",
       "    </tr>\n",
       "    <tr>\n",
       "      <th>2</th>\n",
       "      <td>primary_hypertension</td>\n",
       "      <td>신선한 채소를 비롯한 잡곡, 어육류, 생선, 두부, 견과류 그리고 제철 과일과 우유...</td>\n",
       "    </tr>\n",
       "  </tbody>\n",
       "</table>\n",
       "</div>"
      ],
      "text/plain": [
       "                    질환명                                          질환별 추천 식품\n",
       "0       angina_pectoris  신선한 채소를 비롯한 잡곡, 저지방 어육류, 생선, 두부 그리고 제철 과일과 우유 ...\n",
       "1               obesity     채소류, 해조류, 곤약, 무가당 차음료(녹차 등), 물(보리차, 생수, 탄산수 등)\n",
       "2  primary_hypertension  신선한 채소를 비롯한 잡곡, 어육류, 생선, 두부, 견과류 그리고 제철 과일과 우유..."
      ]
     },
     "execution_count": 11,
     "metadata": {
      "tags": []
     },
     "output_type": "execute_result"
    }
   ],
   "source": [
    "rec_food_df = pd.DataFrame(list(zip(rec_food.keys(), rec_food.values())), columns = ['질환명', '질환별 추천 식품'])\n",
    "rec_food_df.head(3)"
   ]
  },
  {
   "cell_type": "markdown",
   "metadata": {
    "id": "T42p8z-KDQ0G"
   },
   "source": [
    "## 조리식품 레시피 - 식품 안전나라 공공데이터 API\n",
    "https://www.foodsafetykorea.go.kr/api/newDatasetDetail.do"
   ]
  },
  {
   "cell_type": "code",
   "execution_count": 1,
   "metadata": {
    "id": "cdhO3z5iOqlS"
   },
   "outputs": [],
   "source": [
    "import requests\n",
    "import pandas as pd\n",
    "import re\n",
    "# from konlpy.tag import Twitter"
   ]
  },
  {
   "cell_type": "markdown",
   "metadata": {
    "id": "ZWRjdBe3Te7f"
   },
   "source": [
    "### API 사용해서 레시피 (전체) XML로 가져오기"
   ]
  },
  {
   "cell_type": "code",
   "execution_count": 5,
   "metadata": {},
   "outputs": [
    {
     "data": {
      "text/plain": [
       "0       http://www.foodsafetykorea.go.kr/uploadimg/coo...\n",
       "1       http://www.foodsafetykorea.go.kr/uploadimg/coo...\n",
       "2       http://www.foodsafetykorea.go.kr/uploadimg/coo...\n",
       "3       http://www.foodsafetykorea.go.kr/uploadimg/coo...\n",
       "4       http://www.foodsafetykorea.go.kr/uploadimg/coo...\n",
       "                              ...                        \n",
       "1312    http://www.foodsafetykorea.go.kr/uploadimg/201...\n",
       "1313    http://www.foodsafetykorea.go.kr/uploadimg/201...\n",
       "1314    http://www.foodsafetykorea.go.kr/uploadimg/202...\n",
       "1315    http://www.foodsafetykorea.go.kr/uploadimg/202...\n",
       "1316    http://www.foodsafetykorea.go.kr/uploadimg/202...\n",
       "Name: 썸네일, Length: 1317, dtype: object"
      ]
     },
     "execution_count": 5,
     "metadata": {},
     "output_type": "execute_result"
    }
   ],
   "source": [
    "temp = pd.read_csv(\"images_df.csv\",encoding='utf-8')\n",
    "temp['썸네일']"
   ]
  },
  {
   "cell_type": "code",
   "execution_count": 13,
   "metadata": {
    "colab": {
     "base_uri": "https://localhost:8080/"
    },
    "id": "N7LSzrSNCZPE",
    "outputId": "ba5c5cf0-392c-40b0-d03d-6371844945e3"
   },
   "outputs": [
    {
     "name": "stdout",
     "output_type": "stream",
     "text": [
      "http://openapi.foodsafetykorea.go.kr/api//5579b4b6ce5946b693c5/COOKRCP01/xml/1/1000\n",
      "http://openapi.foodsafetykorea.go.kr/api//5579b4b6ce5946b693c5/COOKRCP01/xml/1001/2000\n"
     ]
    }
   ],
   "source": [
    "# http://openapi.foodsafetykorea.go.kr/api/keyId/serviceId/dataType/startIdx/endIdx\n",
    "\n",
    "keyId = '5579b4b6ce5946b693c5'\n",
    "\n",
    "base_url = 'http://openapi.foodsafetykorea.go.kr/api/'\n",
    "serviceId = 'COOKRCP01'\n",
    "dataType = 'xml'\n",
    "startIdx = '1'\n",
    "endIdx = '1000'\n",
    "startIdx2 = '1001'\n",
    "endIdx2 = '2000'\n",
    "\n",
    "request_url = base_url + \"/\" + keyId + \"/\" + serviceId + \"/\" + dataType + \"/\" + startIdx + \"/\" + endIdx\n",
    "print(request_url) # 아래 링크를 클릭해 결과가 잘 나오는지 확인합니다.\n",
    "response = requests.get(request_url).text\n",
    "soup = BeautifulSoup(response, 'lxml-xml') # Parser가 바뀌었음에 유의합니다.\n",
    "\n",
    "request_url2 = base_url + \"/\" + keyId + \"/\" + serviceId + \"/\" + dataType + \"/\" + startIdx2 + \"/\" + endIdx2\n",
    "print(request_url2) # 아래 링크를 클릭해 결과가 잘 나오는지 확인합니다.\n",
    "response2 = requests.get(request_url2).text\n",
    "soup2 = BeautifulSoup(response2, 'lxml-xml') # Parser가 바뀌었음에 유의합니다."
   ]
  },
  {
   "cell_type": "markdown",
   "metadata": {
    "id": "57qgsd7CTkjM"
   },
   "source": [
    "#### 요리명과 재료 추출"
   ]
  },
  {
   "cell_type": "code",
   "execution_count": 14,
   "metadata": {
    "colab": {
     "base_uri": "https://localhost:8080/"
    },
    "id": "nhbS8KSebcEc",
    "outputId": "c2e90b6a-92b0-4ff1-cc36-5c001f591a41"
   },
   "outputs": [
    {
     "name": "stdout",
     "output_type": "stream",
     "text": [
      "1318 1318\n"
     ]
    }
   ],
   "source": [
    "def extract_info(tag_name):\n",
    "  content = soup.find_all(tag_name) # XML의 <>는 HTML의 Tag와 같이 접근 가능\n",
    "  content += soup2.find_all(tag_name)\n",
    "\n",
    "  content = [x.get_text() for x in content] # 텍스트 추출로 앞 뒤의 <> 제거\n",
    "\n",
    "  return content\n",
    "\n",
    "recipe_names = extract_info('RCP_NM')\n",
    "ingredients = extract_info('RCP_PARTS_DTLS')\n",
    "\n",
    "print(len(recipe_names), len(ingredients))"
   ]
  },
  {
   "cell_type": "markdown",
   "metadata": {
    "id": "p66MpSozT-Mr"
   },
   "source": [
    "##### 재료 식품명 전처리"
   ]
  },
  {
   "cell_type": "code",
   "execution_count": 15,
   "metadata": {
    "id": "-gV-9d_fBTAK"
   },
   "outputs": [],
   "source": [
    "# [], (), 속재료(), 반죽재료(), 개, 적당량, 약간\n",
    "# ',' 으로 split \n",
    "\n",
    "\n",
    "# \\n 으로 팔로잉 되는 식재료 부제목 지우기 -- \"\\n\"으로 split 후 ','가 없다면 소제목이라는 패턴을 파악함\n",
    "def remove_subheading(ingredients):\n",
    "\n",
    "  ingredients = ingredients.split(\"\\n\")\n",
    "  measure_words = ['g', '공기', '큰술', '작은술', '장', '개', '마리', '알', 'cm', 'ml', '약간', '적당량', '조금']\n",
    "  filtered = []\n",
    "\n",
    "  for line in ingredients:\n",
    "    res = [mw for mw in measure_words if (mw in line)]\n",
    "\n",
    "    # if there is a comma or a mw in a str, it is NOT a subheading\n",
    "    if (\",\" in line) or (res):\n",
    "\n",
    "      # now remove measurewords and extraneous info from the line\n",
    "      line = remove_mw(line)\n",
    "      filtered.append(line) # append to the list\n",
    "      \n",
    "    else:\n",
    "      # print(\"filtered out: \", line)\n",
    "      pass\n",
    "\n",
    "  # flatten the list\n",
    "  filtered = sum(filtered, [])\n",
    "      \n",
    "  return filtered\n",
    "\n",
    "\n",
    "# ingredients가 string으로 주어졌을때 ',' 으로 나뉘어진 재료들 정리\n",
    "def remove_mw(ingredients):\n",
    "  ingredients = ingredients.split(\",\")\n",
    "\n",
    "  filtered = []\n",
    "  measure_words = ['약간', '적당량', '조금']\n",
    "\n",
    "  for ingredient in ingredients:\n",
    "\n",
    "    ingredient = ingredient.strip()\n",
    "    res = [mw for mw in measure_words if (mw in ingredient)]\n",
    "    ingredient = re.sub(\"[\\(\\[].*?[\\)\\]]\", \"\", ingredient).strip() # remove all text in () and/or []\n",
    "    last = \"\".join(ingredient.split(\" \")[-1]) # \"\".join(list) --> converts list to str\n",
    "\n",
    "    if last[:1].isdigit(): # if the last word starts with a number\n",
    "      ingredient = ingredient.split(\" \")[:-1] # remove measure info\n",
    "\n",
    "    if res: # use if statement to avoid for loop iterating unnecessarily (efficiency-wise)\n",
    "      for mw in measure_words:\n",
    "        if mw in ingredient:\n",
    "          ingredient = ingredient.replace(mw, \"\").strip() # remove measure word\n",
    "\n",
    "    filtered.append(\"\".join(ingredient)) # append to list as a string\n",
    "\n",
    "  return list(set(filtered)) # return a list after converting from a set to remove duplicates"
   ]
  },
  {
   "cell_type": "code",
   "execution_count": 16,
   "metadata": {
    "id": "J-GKFmN2xDac"
   },
   "outputs": [],
   "source": [
    "ingredients_filtered = [] # list of ingredients (filtered)\n",
    "has_error = [] # keeps track of indices that had error\n",
    "\n",
    "for i in range(len(ingredients)):\n",
    "  try:\n",
    "    filtered = remove_subheading(ingredients[i])\n",
    "    ingredients_filtered.append(filtered)\n",
    "  except:\n",
    "    ingredients_filtered.append(\"placeholder\") # insert placeholder when error occurs so the indices are still in order\n",
    "    has_error.append(i)"
   ]
  },
  {
   "cell_type": "code",
   "execution_count": 17,
   "metadata": {
    "id": "VO6aE8v12ESo"
   },
   "outputs": [],
   "source": [
    "# noticed all lines with error has missing commas\n",
    "# add missing commas\n",
    "ingredients[975] = '양파 10g, 할라피뇨 3g, 쇠고기갈은것 10g, 토마토콩카세 10g, 양상추 10g, 올리브오일 1g, 또띠아8인치 30g, 아보카도 6g, 사워크림 3g, 소금적당량, 후춧가루 적당량, 강낭콩 40g, 베이컨 2g, 마늘 1g, 양파 10g, 바질마른것 약간, 배 3g, 오렌지 3g, 레몬주스 2g, 파프리카 가루 1g '\n",
    "ingredients[1024] = '참치캔 15g, 김치 15g, 양파다진것 15g, 부추 5g, 마늘다진것 2g, 깨소금 1g, 참기름 1g, 밥 60g, 달걀 20g, 우유 5g, 소금 적당량, 식용유 적당량, 고추장 2g, 케첩 4g, 마요네즈 1g, 크림치즈 1g, 물 3g '\n",
    "ingredients[1025] = '쌀국수 40g, 닭안심 30g, 대파 10g, 김 1g, 통후추 적당량, 슬라이스 햄 5g, 오이 20g, 시금치 10g, 불린 미역, 통마늘 5g, 달걀 10g, 참기름 적당량, 소금 적당량, 닭육수 100g, 식초 5g, 설탕 2g, 간장 적당량, 땅콩버터 2g, 소금 적당량 '\n",
    "ingredients[1026] = '달걀물 10g, 식용유 1g, 홍고추 3g, 마늘다진것 1g, 닭가슴살 12g, 새우 12g, 양파 12g, 청경채 20g, 스파게티면 40g, 방울토마토 15g, 버터 적당량, 간장 3g, 발사믹식초 1g, 굴소스 2g, 꿀 3g '\n",
    "ingredients[1054] = '흰살 생선 70g, 죽순 20g, 청피망 15g, 홍피망 15g, 건표고버섯 10g, 전분 5g, 치즈슬라이스 10g, 참기름 적당량, 소금 적당량, 흰후춧가루 적당량, 잣 3g, 물 4g, 설탕 3g, 레몬즙 3g, 간장 2g, 소금적당량 '\n",
    "ingredients[1055] = '쇠고기살코기 40g, 당근 10g, 오이피클 10g, 양파 15g, 깻잎 10g, 밥 50g, 전분 6g, 식용유 적당량, 깨소금 2g, 참기름 2g, 소금 적당량, 간장 2g, 청주 2g, 참기름 1g, 후춧가루 적당량 '\n",
    "ingredients[1086] = '새우 15g, 생선육수 130g, 베이컨 10g, 양파 10g, 샐러리 5g, 청피망 8g, 마늘다진것 1g, 토마토콩카세 10g, 밀가루 2g, 버터 3g, 당근 5g, 타바스코 적당량, 케이엔페퍼 적당량, 우스터소스 적당량, 후추 적당량, 소금 적당량, 건타임 0.5g, 건바질 0.5g, 건오레가노 0.5g, 월계수잎 0.2g'\n",
    "ingredients[1108] = '단호박 80g(8*8cm), 적양파 10g(1/10개), 홍피망 5g(1/9개), 청피망 5g(1/9개), 표고버섯 20g(2장), 칵테일 새우 5마리, 우유 10g(2작은술), 식용유 약간, 참깨 5g(1작은술), 마요네즈 5g(1작은술), 간장 2g(1/3작은술), 겨자가루 약간 '"
   ]
  },
  {
   "cell_type": "code",
   "execution_count": 18,
   "metadata": {
    "id": "26IiiS815HH5"
   },
   "outputs": [],
   "source": [
    "# replace placeholders\n",
    "for error in has_error:\n",
    "  filtered = remove_subheading(ingredients[error])\n",
    "  ingredients_filtered[error] = filtered"
   ]
  },
  {
   "cell_type": "markdown",
   "metadata": {
    "id": "hQnc4AqyToCS"
   },
   "source": [
    "#### 조리법 추출"
   ]
  },
  {
   "cell_type": "code",
   "execution_count": 19,
   "metadata": {
    "colab": {
     "base_uri": "https://localhost:8080/"
    },
    "id": "afLDj9BT8iRD",
    "outputId": "65cf12ba-46e9-415f-d5d5-fcc1d8d88b21"
   },
   "outputs": [
    {
     "data": {
      "text/plain": [
       "1318"
      ]
     },
     "execution_count": 19,
     "metadata": {
      "tags": []
     },
     "output_type": "execute_result"
    }
   ],
   "source": [
    "recipes = soup.find_all('row')\n",
    "recipes += soup2.find_all('row')\n",
    "\n",
    "recipe_list = []\n",
    "\n",
    "for content in recipes:\n",
    "    direction = ''\n",
    "    for tag in content.find_all():\n",
    "        if tag.name.startswith('MANUAL') & ('IMG' not in tag.name) :\n",
    "            direction += tag.get_text()\n",
    "    \n",
    "    recipe_list.append(direction)\n",
    "\n",
    "len(recipe_list)"
   ]
  },
  {
   "cell_type": "code",
   "execution_count": 20,
   "metadata": {
    "colab": {
     "base_uri": "https://localhost:8080/",
     "height": 589
    },
    "id": "B07NrjXROIxK",
    "outputId": "f3c23d3f-159d-4f4b-e9fd-0a52b78e58ae"
   },
   "outputs": [
    {
     "data": {
      "text/html": [
       "<div>\n",
       "<style scoped>\n",
       "    .dataframe tbody tr th:only-of-type {\n",
       "        vertical-align: middle;\n",
       "    }\n",
       "\n",
       "    .dataframe tbody tr th {\n",
       "        vertical-align: top;\n",
       "    }\n",
       "\n",
       "    .dataframe thead th {\n",
       "        text-align: right;\n",
       "    }\n",
       "</style>\n",
       "<table border=\"1\" class=\"dataframe\">\n",
       "  <thead>\n",
       "    <tr style=\"text-align: right;\">\n",
       "      <th></th>\n",
       "      <th>요리명</th>\n",
       "      <th>재료</th>\n",
       "      <th>레시피</th>\n",
       "    </tr>\n",
       "  </thead>\n",
       "  <tbody>\n",
       "    <tr>\n",
       "      <th>0</th>\n",
       "      <td>칼륨 듬뿍 고구마죽</td>\n",
       "      <td>설탕, 고구마, 물, 찹쌀가루, 잣</td>\n",
       "      <td>1. 고구마는 깨끗이 씻어서 껍질을 벗기고 4cm 정도로 잘라준다.a2. 찜기에 고...</td>\n",
       "    </tr>\n",
       "    <tr>\n",
       "      <th>1</th>\n",
       "      <td>누룽지 두부 계란죽</td>\n",
       "      <td>표고버섯, 애호박, 당근, 누룽지, 소금, 순두부, 참기름, 흰 후추, 참깨, 달걀</td>\n",
       "      <td>1. 깨끗이 씻어 손질한 애호박, 당근과 기둥을 뗀 표고버섯을 잘게 다지듯이 썬다....</td>\n",
       "    </tr>\n",
       "    <tr>\n",
       "      <th>2</th>\n",
       "      <td>오색지라시 스시</td>\n",
       "      <td>밥, 설탕, 소금, 식초, 달걀노른자, 양파, 새우, 홍피망, 표고버섯, 청피망, ...</td>\n",
       "      <td>1. 배합초는 중불에서 설탕이 녹을 때까지 저어가면서 녹인다.2. 뜨거운 밥에 배합...</td>\n",
       "    </tr>\n",
       "    <tr>\n",
       "      <th>3</th>\n",
       "      <td>두부 곤약 나물 비빔밥</td>\n",
       "      <td>흰쌀, 찹쌀, 두부, 실곤약, 현미쌀, 콩나물, 고사리, 애호박, 소금, 당근, 표...</td>\n",
       "      <td>1. 고사리는 상태에 따라 2~5시간 정도 불린 후 30분 정도 삶아 찬물에 헹구어...</td>\n",
       "    </tr>\n",
       "    <tr>\n",
       "      <th>4</th>\n",
       "      <td>저염 간장을 이용한 닭개장 비빔밥</td>\n",
       "      <td>쌀, 검은쌀, 월계수잎, 닭가슴살, 후추, , 고사리, 숙주, 토란대, 소금, 들기...</td>\n",
       "      <td>1. 쌀은 30분 정도 불린 후 물을 1:1로 하여 밥을 짓는다.2. 숙주는 끓는 ...</td>\n",
       "    </tr>\n",
       "    <tr>\n",
       "      <th>...</th>\n",
       "      <td>...</td>\n",
       "      <td>...</td>\n",
       "      <td>...</td>\n",
       "    </tr>\n",
       "    <tr>\n",
       "      <th>1313</th>\n",
       "      <td>얼큰 콩나물 수제비</td>\n",
       "      <td>콩나물, 황태머리, 소금, 고추장, 밀가루, 고춧가루</td>\n",
       "      <td>1. 밀가루에 소금을 섞어 반죽한 뒤 숙성시킨다.2. 황태머리를 구운 뒤 찬물에 넣...</td>\n",
       "    </tr>\n",
       "    <tr>\n",
       "      <th>1314</th>\n",
       "      <td>단호박 생선탕수, 키위소스</td>\n",
       "      <td>양파, 식초, 키위소스, 동태살, 당근, 오이, 계란, 단호박, 전분, 목이버섯, ...</td>\n",
       "      <td>1. 따뜻한 물에 부린 목이버섯, 동태살, 당근, 오이, 양파를 먹기 좋은 크기로 ...</td>\n",
       "    </tr>\n",
       "    <tr>\n",
       "      <th>1315</th>\n",
       "      <td>낙지모듬초말이</td>\n",
       "      <td>설탕, 사과, 간장10g, 고춧가루, 식초, 낙지, 표고버섯, 당근, 홍고추, 물,...</td>\n",
       "      <td>1. 낙지는 살짝 데치고 한입 크기로 썬다.2. 오이와 당근, 표고, 가지는 얇게 ...</td>\n",
       "    </tr>\n",
       "    <tr>\n",
       "      <th>1316</th>\n",
       "      <td>삼각김밥 빵</td>\n",
       "      <td>양파, 르뱅발효종, 소금, 당근, 물, 쌀가루, 먹물가루, 올리브유, 달걀, 우유,...</td>\n",
       "      <td>1. (속재료) 양파, 마늘, 토마토, 파프리카, 닭가슴살을 다져 올리브유를 두른 ...</td>\n",
       "    </tr>\n",
       "    <tr>\n",
       "      <th>1317</th>\n",
       "      <td>병아리콩 컵케이크</td>\n",
       "      <td>바나나, 무가당 코코아 파우더, 달걀노른자, 아몬드 슬라이스, 아몬드가루, 다크초콜...</td>\n",
       "      <td>1. 불린 병아리콩은 끓는 물(3컵)에 30~40분간 끓여 건지고, 병아리콩 삶은 ...</td>\n",
       "    </tr>\n",
       "  </tbody>\n",
       "</table>\n",
       "<p>1318 rows × 3 columns</p>\n",
       "</div>"
      ],
      "text/plain": [
       "                     요리명  ...                                                레시피\n",
       "0             칼륨 듬뿍 고구마죽  ...  1. 고구마는 깨끗이 씻어서 껍질을 벗기고 4cm 정도로 잘라준다.a2. 찜기에 고...\n",
       "1             누룽지 두부 계란죽  ...  1. 깨끗이 씻어 손질한 애호박, 당근과 기둥을 뗀 표고버섯을 잘게 다지듯이 썬다....\n",
       "2               오색지라시 스시  ...  1. 배합초는 중불에서 설탕이 녹을 때까지 저어가면서 녹인다.2. 뜨거운 밥에 배합...\n",
       "3           두부 곤약 나물 비빔밥  ...  1. 고사리는 상태에 따라 2~5시간 정도 불린 후 30분 정도 삶아 찬물에 헹구어...\n",
       "4     저염 간장을 이용한 닭개장 비빔밥  ...  1. 쌀은 30분 정도 불린 후 물을 1:1로 하여 밥을 짓는다.2. 숙주는 끓는 ...\n",
       "...                  ...  ...                                                ...\n",
       "1313          얼큰 콩나물 수제비  ...  1. 밀가루에 소금을 섞어 반죽한 뒤 숙성시킨다.2. 황태머리를 구운 뒤 찬물에 넣...\n",
       "1314      단호박 생선탕수, 키위소스  ...  1. 따뜻한 물에 부린 목이버섯, 동태살, 당근, 오이, 양파를 먹기 좋은 크기로 ...\n",
       "1315             낙지모듬초말이  ...  1. 낙지는 살짝 데치고 한입 크기로 썬다.2. 오이와 당근, 표고, 가지는 얇게 ...\n",
       "1316              삼각김밥 빵  ...  1. (속재료) 양파, 마늘, 토마토, 파프리카, 닭가슴살을 다져 올리브유를 두른 ...\n",
       "1317           병아리콩 컵케이크  ...  1. 불린 병아리콩은 끓는 물(3컵)에 30~40분간 끓여 건지고, 병아리콩 삶은 ...\n",
       "\n",
       "[1318 rows x 3 columns]"
      ]
     },
     "execution_count": 20,
     "metadata": {
      "tags": []
     },
     "output_type": "execute_result"
    }
   ],
   "source": [
    "ingredients_filtered = [', '.join(ele) for ele in ingredients_filtered] # convert list of lists to list of strings\n",
    "\n",
    "recipe_df = pd.DataFrame(list(zip(recipe_names, ingredients_filtered, recipe_list)),\n",
    "               columns =['요리명', '재료', '레시피'])\n",
    "\n",
    "recipe_df"
   ]
  },
  {
   "cell_type": "code",
   "execution_count": 21,
   "metadata": {
    "colab": {
     "base_uri": "https://localhost:8080/"
    },
    "id": "oNw5FOSP4q1M",
    "outputId": "d8badd57-0ca2-4384-90cb-c8a546ba08bf"
   },
   "outputs": [
    {
     "name": "stdout",
     "output_type": "stream",
     "text": [
      "Int64Index([], dtype='int64')\n",
      "Int64Index([659, 660, 1146, 1213], dtype='int64')\n",
      "Int64Index([828], dtype='int64')\n"
     ]
    }
   ],
   "source": [
    "print(recipe_df[recipe_df['요리명'] == ''].index) # 비어있는 재료 인덱스\n",
    "print(recipe_df[recipe_df['재료'] == ''].index) # 비어있는 재료 인덱스\n",
    "print(recipe_df[recipe_df['레시피'] == ''].index) # 비어있는 재료 인덱스"
   ]
  },
  {
   "cell_type": "code",
   "execution_count": 22,
   "metadata": {
    "id": "HJDMSaoI3K9Q"
   },
   "outputs": [],
   "source": [
    "## 레시피 확인후 missing ingredients 추가\n",
    "# print(recipe_df['레시피'][659])\n",
    "# print(recipe_df['레시피'][660])\n",
    "# print(recipe_df['레시피'][1146])\n",
    "# print(recipe_df['레시피'][1213])\n",
    "\n",
    "ingredients_filtered[659] = ', '.join(['물','멸치','다시마','호박잎','다슬기살','달걀','부추','대파','다진마늘'])\n",
    "ingredients_filtered[660] = ', '.join(['양배추', '당근', '양파', '표고버섯', '두부', '다진돼지고기','참기름', '설탕', '소금', '후춧가루', '밀가루','다진마늘', '토마토케첩','간장','매실액'])\n",
    "ingredients_filtered[1146] = ', '.join(['브로콜리', '실파', '그린빈', '당근', '홍배추', '홍파프리카', '양파', '청고추', '파슬리', '밀가루', '우유', '달걀', '버터', '커리파우더', '닭육수', '식용유'])\n",
    "ingredients_filtered[1213] = ', '.join(['곤약', '콩', '마늘', '마늘쫑', '파프리카', '저나트륨 조림소스'])"
   ]
  },
  {
   "cell_type": "code",
   "execution_count": 23,
   "metadata": {
    "id": "zeC4zE7J6j-i"
   },
   "outputs": [],
   "source": [
    "# update dataframe to include these ingredients\n",
    "recipe_df['재료'] = ingredients_filtered"
   ]
  },
  {
   "cell_type": "code",
   "execution_count": 24,
   "metadata": {
    "colab": {
     "base_uri": "https://localhost:8080/"
    },
    "id": "yBJf7ZTN3VqF",
    "outputId": "672f87f3-6d03-48a1-cc83-d53e1c21e903"
   },
   "outputs": [
    {
     "name": "stdout",
     "output_type": "stream",
     "text": [
      "요리명                                     비타 오이 물김치\n",
      "재료     설탕, 식초, 무, 배, 당근, 홍고추, 오이, 파프리카, 고춧가루, 미나리\n",
      "레시피                                              \n",
      "Name: 828, dtype: object\n"
     ]
    }
   ],
   "source": [
    "print(recipe_df.loc[828]) # 레시피 없는 row drop (정확한 대체 레시피를 찾기 힘듬)\n",
    "recipe_df = recipe_df.drop(828)\n",
    "recipe_df = recipe_df.reset_index(drop=True) # reset index so 828 isnt missing anymore"
   ]
  },
  {
   "cell_type": "code",
   "execution_count": 25,
   "metadata": {
    "colab": {
     "base_uri": "https://localhost:8080/"
    },
    "id": "CxvNNf3W8CSS",
    "outputId": "a18cacb4-e60d-4a3f-e567-d9c889636bf9"
   },
   "outputs": [
    {
     "name": "stdout",
     "output_type": "stream",
     "text": [
      "<class 'pandas.core.frame.DataFrame'>\n",
      "RangeIndex: 1317 entries, 0 to 1316\n",
      "Data columns (total 3 columns):\n",
      " #   Column  Non-Null Count  Dtype \n",
      "---  ------  --------------  ----- \n",
      " 0   요리명     1317 non-null   object\n",
      " 1   재료      1317 non-null   object\n",
      " 2   레시피     1317 non-null   object\n",
      "dtypes: object(3)\n",
      "memory usage: 31.0+ KB\n"
     ]
    }
   ],
   "source": [
    "recipe_df.info() # note: now total num rows == 1317 instead of 1318"
   ]
  },
  {
   "cell_type": "markdown",
   "metadata": {
    "id": "fzjbkswiqDVi"
   },
   "source": [
    "## 질환별 좋은 음식 데이터"
   ]
  },
  {
   "cell_type": "code",
   "execution_count": null,
   "metadata": {
    "id": "6tKxNKEQqMTw"
   },
   "outputs": [],
   "source": [
    "# urls = ['http://www.amc.seoul.kr/asan/healthinfo/mealtherapy/mealTherapyDetail.do?mtId=117', # 협심증/협심증식 \n",
    "#         'http://www.amc.seoul.kr/asan/healthinfo/mealtherapy/mealTherapyDetail.do?mtId=80', # 비만/열량조절\n",
    "#         'https://www.insunet.co.kr/health-guide/52069', # 고혈압/고혈압식\n",
    "#         'https://www.insunet.co.kr/health-guide/51931', # 뇌졸중/뇌졸중식\n",
    "#         'https://www.insunet.co.kr/health-guide/52113', # 당뇨병/당뇨병식\n",
    "#         'https://www.insunet.co.kr/health-guide/52047', # 천식/천식식딘\n",
    "#         'https://www.insunet.co.kr/health-guide/52269', # 아토피/아토피성 피부염식\n",
    "#         'https://www.insunet.co.kr/health-guide/51925', # 간염/바이러스성 간염식\n",
    "#         'https://www.insunet.co.kr/health-guide/52007', # 빈혈/빈혈\n",
    "#         'https://www.insunet.co.kr/health-guide/51904',\n",
    "#         'https://www.insunet.co.kr/health-guide/51997'] # 심근경색증/심근경색식"
   ]
  },
  {
   "cell_type": "code",
   "execution_count": null,
   "metadata": {
    "id": "61Ad4HzvqVAT"
   },
   "outputs": [],
   "source": [
    "# pages = {}\n",
    "\n",
    "# for i in range(len(urls)):\n",
    "#   # get url\n",
    "#   url = urls[i]\n",
    "\n",
    "#   # key == disease\n",
    "#   # value == diet description\n",
    "#   # pages[chronic[i]] = bs_web(url).find('div', {'class': 'contDescription'}).get_text()\n",
    "#   pages[chronic[i]] = bs_web(url).find('div', {'class': 'contDescription'})"
   ]
  },
  {
   "cell_type": "markdown",
   "metadata": {
    "id": "02F6QgM4FJCu"
   },
   "source": [
    "## 식이요법별 df 만들기"
   ]
  },
  {
   "cell_type": "code",
   "execution_count": 26,
   "metadata": {
    "colab": {
     "base_uri": "https://localhost:8080/",
     "height": 204
    },
    "id": "p7ELn-xQFIYc",
    "outputId": "7d4f9c3e-64f3-4266-b6dd-f34c4f9e6270"
   },
   "outputs": [
    {
     "data": {
      "text/html": [
       "<div>\n",
       "<style scoped>\n",
       "    .dataframe tbody tr th:only-of-type {\n",
       "        vertical-align: middle;\n",
       "    }\n",
       "\n",
       "    .dataframe tbody tr th {\n",
       "        vertical-align: top;\n",
       "    }\n",
       "\n",
       "    .dataframe thead th {\n",
       "        text-align: right;\n",
       "    }\n",
       "</style>\n",
       "<table border=\"1\" class=\"dataframe\">\n",
       "  <thead>\n",
       "    <tr style=\"text-align: right;\">\n",
       "      <th></th>\n",
       "      <th>질환명</th>\n",
       "      <th>질환별 추천 식품</th>\n",
       "    </tr>\n",
       "  </thead>\n",
       "  <tbody>\n",
       "    <tr>\n",
       "      <th>0</th>\n",
       "      <td>angina_pectoris</td>\n",
       "      <td>신선한 채소를 비롯한 잡곡, 저지방 어육류, 생선, 두부 그리고 제철 과일과 우유 ...</td>\n",
       "    </tr>\n",
       "    <tr>\n",
       "      <th>1</th>\n",
       "      <td>obesity</td>\n",
       "      <td>채소류, 해조류, 곤약, 무가당 차음료(녹차 등), 물(보리차, 생수, 탄산수 등)</td>\n",
       "    </tr>\n",
       "    <tr>\n",
       "      <th>2</th>\n",
       "      <td>primary_hypertension</td>\n",
       "      <td>신선한 채소를 비롯한 잡곡, 어육류, 생선, 두부, 견과류 그리고 제철 과일과 우유...</td>\n",
       "    </tr>\n",
       "    <tr>\n",
       "      <th>3</th>\n",
       "      <td>cerebrovascular_disease</td>\n",
       "      <td>1. 물, 주스, 우유 등 액상 형태의 대부분의 식품은 '점도증진제(음식의 점도 조...</td>\n",
       "    </tr>\n",
       "    <tr>\n",
       "      <th>4</th>\n",
       "      <td>diabetes</td>\n",
       "      <td>채소류, 열량이 적은 식품(곤약, 해조류, 버섯류, 우뭇가사리, 등)</td>\n",
       "    </tr>\n",
       "  </tbody>\n",
       "</table>\n",
       "</div>"
      ],
      "text/plain": [
       "                       질환명                                          질환별 추천 식품\n",
       "0          angina_pectoris  신선한 채소를 비롯한 잡곡, 저지방 어육류, 생선, 두부 그리고 제철 과일과 우유 ...\n",
       "1                  obesity     채소류, 해조류, 곤약, 무가당 차음료(녹차 등), 물(보리차, 생수, 탄산수 등)\n",
       "2     primary_hypertension  신선한 채소를 비롯한 잡곡, 어육류, 생선, 두부, 견과류 그리고 제철 과일과 우유...\n",
       "3  cerebrovascular_disease  1. 물, 주스, 우유 등 액상 형태의 대부분의 식품은 '점도증진제(음식의 점도 조...\n",
       "4                 diabetes             채소류, 열량이 적은 식품(곤약, 해조류, 버섯류, 우뭇가사리, 등)"
      ]
     },
     "execution_count": 26,
     "metadata": {
      "tags": []
     },
     "output_type": "execute_result"
    }
   ],
   "source": [
    "rec_food_df.head()"
   ]
  },
  {
   "cell_type": "code",
   "execution_count": 27,
   "metadata": {
    "colab": {
     "base_uri": "https://localhost:8080/",
     "height": 289
    },
    "id": "eE33sA-2FrHV",
    "outputId": "e6420a8b-15b7-46f8-ad62-f74123691f09"
   },
   "outputs": [
    {
     "data": {
      "text/html": [
       "<div>\n",
       "<style scoped>\n",
       "    .dataframe tbody tr th:only-of-type {\n",
       "        vertical-align: middle;\n",
       "    }\n",
       "\n",
       "    .dataframe tbody tr th {\n",
       "        vertical-align: top;\n",
       "    }\n",
       "\n",
       "    .dataframe thead th {\n",
       "        text-align: right;\n",
       "    }\n",
       "</style>\n",
       "<table border=\"1\" class=\"dataframe\">\n",
       "  <thead>\n",
       "    <tr style=\"text-align: right;\">\n",
       "      <th></th>\n",
       "      <th>요리명</th>\n",
       "      <th>재료</th>\n",
       "      <th>레시피</th>\n",
       "    </tr>\n",
       "  </thead>\n",
       "  <tbody>\n",
       "    <tr>\n",
       "      <th>0</th>\n",
       "      <td>칼륨 듬뿍 고구마죽</td>\n",
       "      <td>설탕, 고구마, 물, 찹쌀가루, 잣</td>\n",
       "      <td>1. 고구마는 깨끗이 씻어서 껍질을 벗기고 4cm 정도로 잘라준다.a2. 찜기에 고...</td>\n",
       "    </tr>\n",
       "    <tr>\n",
       "      <th>1</th>\n",
       "      <td>누룽지 두부 계란죽</td>\n",
       "      <td>표고버섯, 애호박, 당근, 누룽지, 소금, 순두부, 참기름, 흰 후추, 참깨, 달걀</td>\n",
       "      <td>1. 깨끗이 씻어 손질한 애호박, 당근과 기둥을 뗀 표고버섯을 잘게 다지듯이 썬다....</td>\n",
       "    </tr>\n",
       "    <tr>\n",
       "      <th>2</th>\n",
       "      <td>오색지라시 스시</td>\n",
       "      <td>밥, 설탕, 소금, 식초, 달걀노른자, 양파, 새우, 홍피망, 표고버섯, 청피망, ...</td>\n",
       "      <td>1. 배합초는 중불에서 설탕이 녹을 때까지 저어가면서 녹인다.2. 뜨거운 밥에 배합...</td>\n",
       "    </tr>\n",
       "    <tr>\n",
       "      <th>3</th>\n",
       "      <td>두부 곤약 나물 비빔밥</td>\n",
       "      <td>흰쌀, 찹쌀, 두부, 실곤약, 현미쌀, 콩나물, 고사리, 애호박, 소금, 당근, 표...</td>\n",
       "      <td>1. 고사리는 상태에 따라 2~5시간 정도 불린 후 30분 정도 삶아 찬물에 헹구어...</td>\n",
       "    </tr>\n",
       "    <tr>\n",
       "      <th>4</th>\n",
       "      <td>저염 간장을 이용한 닭개장 비빔밥</td>\n",
       "      <td>쌀, 검은쌀, 월계수잎, 닭가슴살, 후추, , 고사리, 숙주, 토란대, 소금, 들기...</td>\n",
       "      <td>1. 쌀은 30분 정도 불린 후 물을 1:1로 하여 밥을 짓는다.2. 숙주는 끓는 ...</td>\n",
       "    </tr>\n",
       "  </tbody>\n",
       "</table>\n",
       "</div>"
      ],
      "text/plain": [
       "                  요리명  ...                                                레시피\n",
       "0          칼륨 듬뿍 고구마죽  ...  1. 고구마는 깨끗이 씻어서 껍질을 벗기고 4cm 정도로 잘라준다.a2. 찜기에 고...\n",
       "1          누룽지 두부 계란죽  ...  1. 깨끗이 씻어 손질한 애호박, 당근과 기둥을 뗀 표고버섯을 잘게 다지듯이 썬다....\n",
       "2            오색지라시 스시  ...  1. 배합초는 중불에서 설탕이 녹을 때까지 저어가면서 녹인다.2. 뜨거운 밥에 배합...\n",
       "3        두부 곤약 나물 비빔밥  ...  1. 고사리는 상태에 따라 2~5시간 정도 불린 후 30분 정도 삶아 찬물에 헹구어...\n",
       "4  저염 간장을 이용한 닭개장 비빔밥  ...  1. 쌀은 30분 정도 불린 후 물을 1:1로 하여 밥을 짓는다.2. 숙주는 끓는 ...\n",
       "\n",
       "[5 rows x 3 columns]"
      ]
     },
     "execution_count": 27,
     "metadata": {
      "tags": []
     },
     "output_type": "execute_result"
    }
   ],
   "source": [
    "recipe_df.head()"
   ]
  },
  {
   "cell_type": "code",
   "execution_count": 28,
   "metadata": {
    "colab": {
     "base_uri": "https://localhost:8080/",
     "height": 235
    },
    "id": "sayd-CVASJnU",
    "outputId": "22f9e9c8-6d73-4f3d-8f0c-635d553e932a"
   },
   "outputs": [
    {
     "data": {
      "text/html": [
       "<div>\n",
       "<style scoped>\n",
       "    .dataframe tbody tr th:only-of-type {\n",
       "        vertical-align: middle;\n",
       "    }\n",
       "\n",
       "    .dataframe tbody tr th {\n",
       "        vertical-align: top;\n",
       "    }\n",
       "\n",
       "    .dataframe thead th {\n",
       "        text-align: right;\n",
       "    }\n",
       "</style>\n",
       "<table border=\"1\" class=\"dataframe\">\n",
       "  <thead>\n",
       "    <tr style=\"text-align: right;\">\n",
       "      <th></th>\n",
       "      <th>질환별 추천 식품</th>\n",
       "    </tr>\n",
       "    <tr>\n",
       "      <th>질환명</th>\n",
       "      <th></th>\n",
       "    </tr>\n",
       "  </thead>\n",
       "  <tbody>\n",
       "    <tr>\n",
       "      <th>angina_pectoris</th>\n",
       "      <td>신선한 채소를 비롯한 잡곡, 저지방 어육류, 생선, 두부 그리고 제철 과일과 우유 ...</td>\n",
       "    </tr>\n",
       "    <tr>\n",
       "      <th>obesity</th>\n",
       "      <td>채소류, 해조류, 곤약, 무가당 차음료(녹차 등), 물(보리차, 생수, 탄산수 등)</td>\n",
       "    </tr>\n",
       "    <tr>\n",
       "      <th>primary_hypertension</th>\n",
       "      <td>신선한 채소를 비롯한 잡곡, 어육류, 생선, 두부, 견과류 그리고 제철 과일과 우유...</td>\n",
       "    </tr>\n",
       "    <tr>\n",
       "      <th>cerebrovascular_disease</th>\n",
       "      <td>1. 물, 주스, 우유 등 액상 형태의 대부분의 식품은 '점도증진제(음식의 점도 조...</td>\n",
       "    </tr>\n",
       "    <tr>\n",
       "      <th>diabetes</th>\n",
       "      <td>채소류, 열량이 적은 식품(곤약, 해조류, 버섯류, 우뭇가사리, 등)</td>\n",
       "    </tr>\n",
       "  </tbody>\n",
       "</table>\n",
       "</div>"
      ],
      "text/plain": [
       "                                                                 질환별 추천 식품\n",
       "질환명                                                                       \n",
       "angina_pectoris          신선한 채소를 비롯한 잡곡, 저지방 어육류, 생선, 두부 그리고 제철 과일과 우유 ...\n",
       "obesity                     채소류, 해조류, 곤약, 무가당 차음료(녹차 등), 물(보리차, 생수, 탄산수 등)\n",
       "primary_hypertension     신선한 채소를 비롯한 잡곡, 어육류, 생선, 두부, 견과류 그리고 제철 과일과 우유...\n",
       "cerebrovascular_disease  1. 물, 주스, 우유 등 액상 형태의 대부분의 식품은 '점도증진제(음식의 점도 조...\n",
       "diabetes                            채소류, 열량이 적은 식품(곤약, 해조류, 버섯류, 우뭇가사리, 등)"
      ]
     },
     "execution_count": 28,
     "metadata": {
      "tags": []
     },
     "output_type": "execute_result"
    }
   ],
   "source": [
    "rec_food_df = rec_food_df.set_index('질환명')\n",
    "rec_food_df.head()"
   ]
  },
  {
   "cell_type": "code",
   "execution_count": 29,
   "metadata": {
    "colab": {
     "base_uri": "https://localhost:8080/"
    },
    "id": "4w6pixRSE4rv",
    "outputId": "60de8093-f8ed-4021-a81e-2f4d3483365f"
   },
   "outputs": [
    {
     "name": "stdout",
     "output_type": "stream",
     "text": [
      "신선한 채소를 비롯한 잡곡, 저지방 어육류, 생선, 두부 그리고 제철 과일과 우유 등 균형잡힌 식사 \n",
      "\n",
      "채소류, 해조류, 곤약, 무가당 차음료(녹차 등), 물(보리차, 생수, 탄산수 등) \n",
      "\n",
      "신선한 채소를 비롯한 잡곡, 어육류, 생선, 두부, 견과류 그리고 제철 과일과 우유 등 균형잡힌 식사 \n",
      "\n",
      "1. 물, 주스, 우유 등 액상 형태의 대부분의 식품은 '점도증진제(음식의 점도 조절용)'를 섞어서 섭취할 수 있습니다. 2. 삼킴 장애가 심하고 씹지 못 할 때는 밥보다는 죽을 쑤어 블렌더로 곱게 갈아 꿀농도만큼 걸쭉하게 드시길 권장합니다. 반찬(고기, 생선살 나물 등)도 익힌 후 죽을 함께 넣고 블렌더로 곱게 갈아 걸쭉하게 드실 수 있습니다. 3. 우유 대신 요거트를 권장합니다. \n",
      "\n",
      "채소류, 열량이 적은 식품(곤약, 해조류, 버섯류, 우뭇가사리, 등) \n",
      "\n",
      "살코기, 생선, 두부, 신선한 채소 및 과일 \n",
      "\n",
      "식품 알레르기와 같이 있는 경우 알레르기 원인 식품을 제외한 모든 음식, 특히 단백질과 아연이 풍부한 육류를 충분히 섭취하는 것이 좋습니다 \n",
      "\n",
      "밥, 떡, 감자, 고구마, 과일, 야채, 단백질 식품( 살코기, 생선, 계란, 두부, 콩 등 ) \n",
      "\n",
      "색이 짙은 살코기, 생선, 계란, 우유 및 유제품, 색이 짙은 채소, 과일 \n",
      "\n",
      "신선한 채소를 비롯한 잡곡, 저지방 어육류, 생선, 두부 그리고 제철 과일과 우유 등 균형잡힌 식사 \n",
      "\n"
     ]
    }
   ],
   "source": [
    "for disease in rec_food_df.index:\n",
    "  print(rec_food_df.loc[disease]['질환별 추천 식품'],\"\\n\")"
   ]
  },
  {
   "cell_type": "code",
   "execution_count": null,
   "metadata": {
    "id": "v9WnQMNND-i7"
   },
   "outputs": [],
   "source": [
    "# grain = [] # 잡곡\n",
    "# low_fat_fish_meat = [] # 저지방 어육류\n",
    "# fruit = [] # (제철) 과일\n",
    "# veg = [] # 채소(류), 야채\n",
    "# fish = [] # 생선\n",
    "# nuts = [] # 견과류\n",
    "# seaweed = [] # 해조류\n",
    "# mushroom = [] # 버섯류\n",
    "# meat = [] # 육류, 고기\n",
    "# fish_meat = fish.append(meat) # 어육류\n",
    "# ? = [] # 색이 짙은 살코기\n",
    "# ? = [] # 색이 짙은 채소\n"
   ]
  },
  {
   "cell_type": "markdown",
   "metadata": {
    "id": "jtdMsoVJBKRT"
   },
   "source": [
    "### similarity between recommended diet per disease and ingredients from recipe df\n",
    "#### cosine similarity (list of ingredients)"
   ]
  },
  {
   "cell_type": "code",
   "execution_count": 30,
   "metadata": {
    "colab": {
     "base_uri": "https://localhost:8080/"
    },
    "id": "XIp6t6W4SUxK",
    "outputId": "289e842a-c2cf-44a5-db71-a79f2e967284"
   },
   "outputs": [
    {
     "name": "stdout",
     "output_type": "stream",
     "text": [
      "0.0\n"
     ]
    }
   ],
   "source": [
    "from collections import Counter\n",
    "import math\n",
    "\n",
    "# list_A = rec_food_df['obesity']['질환별 추천 식품'].split(\",\")\n",
    "# list_B = recipe_df[2]['재료']\n",
    "list_A = rec_food_df['질환별 추천 식품']['angina_pectoris'].split(\",\")\n",
    "list_B = recipe_df['재료'][1]\n",
    "\n",
    "counterA = Counter(list_A)\n",
    "counterB = Counter(list_B)\n",
    "\n",
    "\n",
    "def counter_cosine_similarity(c1, c2):\n",
    "    terms = set(c1).union(c2)\n",
    "    dotprod = sum(c1.get(k, 0) * c2.get(k, 0) for k in terms)\n",
    "    magA = math.sqrt(sum(c1.get(k, 0)**2 for k in terms))\n",
    "    magB = math.sqrt(sum(c2.get(k, 0)**2 for k in terms))\n",
    "    cos_sim = dotprod / (magA * magB)\n",
    "    return cos_sim\n",
    "\n",
    "print(counter_cosine_similarity(counterA, counterB) * 100)"
   ]
  },
  {
   "cell_type": "code",
   "execution_count": 31,
   "metadata": {
    "id": "p4pchmlWcC4X"
   },
   "outputs": [],
   "source": [
    "cossim = []\n",
    "for disease in rec_food_df.index:\n",
    "  disease_sim = []\n",
    "\n",
    "  list_A = rec_food_df['질환별 추천 식품'][disease].split(\",\")\n",
    "  counterA = Counter(list_A)\n",
    "\n",
    "  for i in range(len(recipe_df)):\n",
    "    list_B = recipe_df['재료'][i]\n",
    "    counterB = Counter(list_B)\n",
    "\n",
    "    disease_sim.append(counter_cosine_similarity(counterA, counterB) * 100)\n",
    "\n",
    "  cossim.append(disease_sim)"
   ]
  },
  {
   "cell_type": "code",
   "execution_count": 32,
   "metadata": {
    "colab": {
     "base_uri": "https://localhost:8080/"
    },
    "id": "hlc5LX3i_lLm",
    "outputId": "7c243206-6fd8-46ea-c908-42ac73667928"
   },
   "outputs": [
    {
     "data": {
      "text/plain": [
       "1317"
      ]
     },
     "execution_count": 32,
     "metadata": {
      "tags": []
     },
     "output_type": "execute_result"
    }
   ],
   "source": [
    "len(disease_sim)"
   ]
  },
  {
   "cell_type": "code",
   "execution_count": 33,
   "metadata": {
    "colab": {
     "base_uri": "https://localhost:8080/"
    },
    "id": "yDPMLy2O_4Wq",
    "outputId": "ffd1512a-a9bd-41a5-f5c3-a247781b65d9"
   },
   "outputs": [
    {
     "data": {
      "text/plain": [
       "10"
      ]
     },
     "execution_count": 33,
     "metadata": {
      "tags": []
     },
     "output_type": "execute_result"
    }
   ],
   "source": [
    "len(cossim)"
   ]
  },
  {
   "cell_type": "code",
   "execution_count": 34,
   "metadata": {
    "colab": {
     "base_uri": "https://localhost:8080/"
    },
    "id": "JenJJUta_9Im",
    "outputId": "15fe9e36-1083-46d6-bdbe-764096685c1a"
   },
   "outputs": [
    {
     "name": "stdout",
     "output_type": "stream",
     "text": [
      "hepatitis\n"
     ]
    }
   ],
   "source": [
    "for i in range(len(cossim)):\n",
    "  if sum(cossim[i]) > 0:\n",
    "    print(list(rec_food.keys())[i])"
   ]
  },
  {
   "cell_type": "markdown",
   "metadata": {
    "id": "Xho9AC2D-pvJ"
   },
   "source": [
    "## 요리명이 input 되었을 때 비슷한 요리 찾기 (재료 cosine similarity 기준)"
   ]
  },
  {
   "cell_type": "markdown",
   "metadata": {
    "id": "Faua-hG4_C20"
   },
   "source": [
    "#### upper right triangle df 으로 cosine similarity 저장 (col & row name == 요리명)"
   ]
  },
  {
   "cell_type": "code",
   "execution_count": null,
   "metadata": {
    "colab": {
     "base_uri": "https://localhost:8080/"
    },
    "id": "2_3xC93aBomd",
    "outputId": "bbfb142b-ef3d-4025-ccd3-cd8bccb733fc"
   },
   "outputs": [
    {
     "name": "stderr",
     "output_type": "stream",
     "text": [
      "/usr/local/lib/python3.7/dist-packages/ipykernel_launcher.py:16: SettingWithCopyWarning: \n",
      "A value is trying to be set on a copy of a slice from a DataFrame.\n",
      "Try using .loc[row_indexer,col_indexer] = value instead\n",
      "\n",
      "See the caveats in the documentation: https://pandas.pydata.org/pandas-docs/stable/user_guide/indexing.html#returning-a-view-versus-a-copy\n",
      "  app.launch_new_instance()\n"
     ]
    }
   ],
   "source": [
    "# dish = list(recipe_df['요리명'])\n",
    "\n",
    "# cossim = pd.DataFrame(index = dish, columns = dish)\n",
    "\n",
    "# for i in range(len(recipe_df) - 1):\n",
    "#   dishA = dish[i]\n",
    "#   ingredientsA = recipe_df['재료'][i]\n",
    "#   counterA = Counter(ingredientsA)\n",
    "\n",
    "#   for j in range(i+1, len(recipe_df)):\n",
    "#     dishB = dish[j]\n",
    "#     ingredientsB = recipe_df['재료'][j]\n",
    "#     counterB = Counter(ingredientsB)\n",
    "\n",
    "#     cossim.loc[dishA][dishB] = counter_cosine_similarity(counterA, counterB) * 100"
   ]
  },
  {
   "cell_type": "code",
   "execution_count": null,
   "metadata": {
    "colab": {
     "base_uri": "https://localhost:8080/",
     "height": 1000
    },
    "id": "K5WGqqnwmj8F",
    "outputId": "ec5cb4ec-fdb1-439e-f7a6-4d24799f74aa"
   },
   "outputs": [
    {
     "data": {
      "text/html": [
       "<div>\n",
       "<style scoped>\n",
       "    .dataframe tbody tr th:only-of-type {\n",
       "        vertical-align: middle;\n",
       "    }\n",
       "\n",
       "    .dataframe tbody tr th {\n",
       "        vertical-align: top;\n",
       "    }\n",
       "\n",
       "    .dataframe thead th {\n",
       "        text-align: right;\n",
       "    }\n",
       "</style>\n",
       "<table border=\"1\" class=\"dataframe\">\n",
       "  <thead>\n",
       "    <tr style=\"text-align: right;\">\n",
       "      <th></th>\n",
       "      <th>칼륨 듬뿍 고구마죽</th>\n",
       "      <th>누룽지 두부 계란죽</th>\n",
       "      <th>오색지라시 스시</th>\n",
       "      <th>두부 곤약 나물 비빔밥</th>\n",
       "      <th>저염 간장을 이용한 닭개장 비빔밥</th>\n",
       "      <th>취나물 비빔밥 &amp; 청국장 쌈장</th>\n",
       "      <th>해물 채소장을 넣은 곰취 쌈밥</th>\n",
       "      <th>단호박 케일밥</th>\n",
       "      <th>오색영양밥 롤</th>\n",
       "      <th>새우 두부 계란찜</th>\n",
       "      <th>부추 콩가루 찜</th>\n",
       "      <th>연근 구기자 물김치</th>\n",
       "      <th>방울토마토 소박이</th>\n",
       "      <th>순두부 사과 소스 오이무침</th>\n",
       "      <th>사과 새우 북엇국</th>\n",
       "      <th>사탕절편 떡국</th>\n",
       "      <th>두부 표고 완자탕</th>\n",
       "      <th>저염 된장으로 맛을 낸 황태해장국</th>\n",
       "      <th>된장국</th>\n",
       "      <th>표고버섯 청경채국</th>\n",
       "      <th>치커리샐러드와 올리브 마늘 소스</th>\n",
       "      <th>구운가지 닭가슴살 샐러드와 들깨소스</th>\n",
       "      <th>스트로베리 샐러드</th>\n",
       "      <th>유자꿀드레싱을 곁들인 곤드레 단호박 크로켓 샐러드</th>\n",
       "      <th>시금치 우유 소스와 그린매쉬드포테이토</th>\n",
       "      <th>모과 소스를 곁들인 채소두부</th>\n",
       "      <th>버섯구이와 두부타르타르 소스</th>\n",
       "      <th>새우살 두부완자 샐러드와 매실 생강 소스</th>\n",
       "      <th>구운채소와 간장레몬 소스</th>\n",
       "      <th>브로콜리 컬리플라워 샐러드와 두유 요거트 소스</th>\n",
       "      <th>비빔 메밀냉채</th>\n",
       "      <th>약재 소스를 곁들인 닭가슴살롤</th>\n",
       "      <th>사과 레몬 대구 구이</th>\n",
       "      <th>유자 소스 동태살 구이</th>\n",
       "      <th>비네그레트 드레싱을 이용한 관자요리</th>\n",
       "      <th>곤드레도우와 레몬허니 소스 피자</th>\n",
       "      <th>청국장 실곤약 파스타</th>\n",
       "      <th>고소하고 담백한 너트국수</th>\n",
       "      <th>메밀꽃 필 국수</th>\n",
       "      <th>적양배추 순두부 푸딩</th>\n",
       "      <th>...</th>\n",
       "      <th>만가닥버섯볶음</th>\n",
       "      <th>양파홍초절임</th>\n",
       "      <th>고구마순나물</th>\n",
       "      <th>저염 겉절이</th>\n",
       "      <th>아욱 된장무침</th>\n",
       "      <th>검은콩부추전</th>\n",
       "      <th>고사리파전&amp;단감전</th>\n",
       "      <th>바지락매생이전</th>\n",
       "      <th>알콩달콩전</th>\n",
       "      <th>계란만두&amp;토마토소스</th>\n",
       "      <th>통도라지양념구이</th>\n",
       "      <th>삼색계란찜</th>\n",
       "      <th>고구마순들깨나물</th>\n",
       "      <th>시금치토마토무침</th>\n",
       "      <th>바나나미숫가루쉐이크</th>\n",
       "      <th>배쨈 식빵</th>\n",
       "      <th>사과 견과류 식빵</th>\n",
       "      <th>카카오 깜빠뉴</th>\n",
       "      <th>곶감 베이글</th>\n",
       "      <th>단호박크림을 곁들인 브로콜리 베이글</th>\n",
       "      <th>어묵 잡채</th>\n",
       "      <th>토마토 비빔국수</th>\n",
       "      <th>멸치 전복 저염국수</th>\n",
       "      <th>유부초절임</th>\n",
       "      <th>토마토 미소 된장국</th>\n",
       "      <th>미역 미소국</th>\n",
       "      <th>포두부채소잡채</th>\n",
       "      <th>속이 든든든한 밥 빵</th>\n",
       "      <th>참외지 리코타버무리</th>\n",
       "      <th>과일 피클 젤리</th>\n",
       "      <th>바나나 쑥두부푸딩</th>\n",
       "      <th>채소말이와 고구마가지구이</th>\n",
       "      <th>들깨 곤약 냉채</th>\n",
       "      <th>요거트 단호박 샐러드</th>\n",
       "      <th>홍합 배춧국</th>\n",
       "      <th>얼큰 콩나물 수제비</th>\n",
       "      <th>단호박 생선탕수, 키위소스</th>\n",
       "      <th>낙지모듬초말이</th>\n",
       "      <th>삼각김밥 빵</th>\n",
       "      <th>병아리콩 컵케이크</th>\n",
       "    </tr>\n",
       "  </thead>\n",
       "  <tbody>\n",
       "    <tr>\n",
       "      <th>칼륨 듬뿍 고구마죽</th>\n",
       "      <td>NaN</td>\n",
       "      <td>81.0302</td>\n",
       "      <td>82.415</td>\n",
       "      <td>85.5558</td>\n",
       "      <td>86.1997</td>\n",
       "      <td>81.1104</td>\n",
       "      <td>88.225</td>\n",
       "      <td>86.3015</td>\n",
       "      <td>86.3403</td>\n",
       "      <td>78.6451</td>\n",
       "      <td>82.2787</td>\n",
       "      <td>83.381</td>\n",
       "      <td>86.6249</td>\n",
       "      <td>67.9639</td>\n",
       "      <td>82.2217</td>\n",
       "      <td>84.1096</td>\n",
       "      <td>85.8276</td>\n",
       "      <td>80.2501</td>\n",
       "      <td>84.7476</td>\n",
       "      <td>81.4417</td>\n",
       "      <td>81.127</td>\n",
       "      <td>80.7296</td>\n",
       "      <td>75.1007</td>\n",
       "      <td>84.157</td>\n",
       "      <td>74.7532</td>\n",
       "      <td>84.0935</td>\n",
       "      <td>77.8237</td>\n",
       "      <td>81.8239</td>\n",
       "      <td>81.1665</td>\n",
       "      <td>80.2189</td>\n",
       "      <td>82.8259</td>\n",
       "      <td>85.0473</td>\n",
       "      <td>80.4753</td>\n",
       "      <td>81.5876</td>\n",
       "      <td>80.6979</td>\n",
       "      <td>77.8204</td>\n",
       "      <td>80.3471</td>\n",
       "      <td>82.8543</td>\n",
       "      <td>87.0622</td>\n",
       "      <td>81.0469</td>\n",
       "      <td>...</td>\n",
       "      <td>75.6578</td>\n",
       "      <td>78.5339</td>\n",
       "      <td>86.5849</td>\n",
       "      <td>87.1602</td>\n",
       "      <td>77.4855</td>\n",
       "      <td>83.8885</td>\n",
       "      <td>87.7846</td>\n",
       "      <td>79.2406</td>\n",
       "      <td>83.7351</td>\n",
       "      <td>82.347</td>\n",
       "      <td>80.8433</td>\n",
       "      <td>76.2652</td>\n",
       "      <td>81.9529</td>\n",
       "      <td>77.4797</td>\n",
       "      <td>62.974</td>\n",
       "      <td>77.64</td>\n",
       "      <td>76.6907</td>\n",
       "      <td>77.9712</td>\n",
       "      <td>77.154</td>\n",
       "      <td>76.4084</td>\n",
       "      <td>81.3332</td>\n",
       "      <td>85.3694</td>\n",
       "      <td>85.2493</td>\n",
       "      <td>83.5389</td>\n",
       "      <td>81.9813</td>\n",
       "      <td>61.8463</td>\n",
       "      <td>81.703</td>\n",
       "      <td>81.1924</td>\n",
       "      <td>78.1788</td>\n",
       "      <td>83.5518</td>\n",
       "      <td>76.715</td>\n",
       "      <td>85.5618</td>\n",
       "      <td>84.6367</td>\n",
       "      <td>79.845</td>\n",
       "      <td>80.8241</td>\n",
       "      <td>82.7624</td>\n",
       "      <td>82.0986</td>\n",
       "      <td>88.0531</td>\n",
       "      <td>88.1031</td>\n",
       "      <td>78.2019</td>\n",
       "    </tr>\n",
       "    <tr>\n",
       "      <th>누룽지 두부 계란죽</th>\n",
       "      <td>NaN</td>\n",
       "      <td>NaN</td>\n",
       "      <td>91.3164</td>\n",
       "      <td>93.1477</td>\n",
       "      <td>91.8264</td>\n",
       "      <td>87.4273</td>\n",
       "      <td>92.3736</td>\n",
       "      <td>86.4722</td>\n",
       "      <td>93.1658</td>\n",
       "      <td>85.4098</td>\n",
       "      <td>86.8738</td>\n",
       "      <td>88.3141</td>\n",
       "      <td>86.4145</td>\n",
       "      <td>76.8852</td>\n",
       "      <td>87.8058</td>\n",
       "      <td>87.1804</td>\n",
       "      <td>91.4447</td>\n",
       "      <td>81.7057</td>\n",
       "      <td>86.039</td>\n",
       "      <td>85.16</td>\n",
       "      <td>84.6207</td>\n",
       "      <td>83.2684</td>\n",
       "      <td>82.5315</td>\n",
       "      <td>89.2096</td>\n",
       "      <td>79.3168</td>\n",
       "      <td>89.0782</td>\n",
       "      <td>86.5082</td>\n",
       "      <td>86.9302</td>\n",
       "      <td>86.4383</td>\n",
       "      <td>86.3221</td>\n",
       "      <td>87.3266</td>\n",
       "      <td>90.7385</td>\n",
       "      <td>83.3238</td>\n",
       "      <td>88.6658</td>\n",
       "      <td>85.8627</td>\n",
       "      <td>82.8115</td>\n",
       "      <td>85.7238</td>\n",
       "      <td>87.0784</td>\n",
       "      <td>88.7764</td>\n",
       "      <td>86.3141</td>\n",
       "      <td>...</td>\n",
       "      <td>83.4869</td>\n",
       "      <td>79.9584</td>\n",
       "      <td>89.5547</td>\n",
       "      <td>88.4595</td>\n",
       "      <td>88.0145</td>\n",
       "      <td>90.8618</td>\n",
       "      <td>85.8214</td>\n",
       "      <td>79.6819</td>\n",
       "      <td>84.4147</td>\n",
       "      <td>88.8569</td>\n",
       "      <td>89.7924</td>\n",
       "      <td>83.1068</td>\n",
       "      <td>82.9515</td>\n",
       "      <td>82.0724</td>\n",
       "      <td>60.1585</td>\n",
       "      <td>84.3182</td>\n",
       "      <td>85.5182</td>\n",
       "      <td>84.8365</td>\n",
       "      <td>77.921</td>\n",
       "      <td>81.6692</td>\n",
       "      <td>88.3291</td>\n",
       "      <td>86.6253</td>\n",
       "      <td>93.0229</td>\n",
       "      <td>87.7772</td>\n",
       "      <td>87.8327</td>\n",
       "      <td>66.0466</td>\n",
       "      <td>87.7508</td>\n",
       "      <td>83.8898</td>\n",
       "      <td>83.5614</td>\n",
       "      <td>85.2978</td>\n",
       "      <td>84.4926</td>\n",
       "      <td>89.9239</td>\n",
       "      <td>87.9834</td>\n",
       "      <td>86.9934</td>\n",
       "      <td>87.0447</td>\n",
       "      <td>79.6819</td>\n",
       "      <td>89.2509</td>\n",
       "      <td>91.3252</td>\n",
       "      <td>89.0298</td>\n",
       "      <td>82.666</td>\n",
       "    </tr>\n",
       "    <tr>\n",
       "      <th>오색지라시 스시</th>\n",
       "      <td>NaN</td>\n",
       "      <td>NaN</td>\n",
       "      <td>NaN</td>\n",
       "      <td>90.1217</td>\n",
       "      <td>90.4065</td>\n",
       "      <td>86.1755</td>\n",
       "      <td>94.1884</td>\n",
       "      <td>86.566</td>\n",
       "      <td>91.8794</td>\n",
       "      <td>86.998</td>\n",
       "      <td>84.5472</td>\n",
       "      <td>88.917</td>\n",
       "      <td>86.7227</td>\n",
       "      <td>75.0322</td>\n",
       "      <td>90.9545</td>\n",
       "      <td>85.7143</td>\n",
       "      <td>93.031</td>\n",
       "      <td>81.9515</td>\n",
       "      <td>87.8039</td>\n",
       "      <td>86.7528</td>\n",
       "      <td>87.4391</td>\n",
       "      <td>83.7519</td>\n",
       "      <td>82.7422</td>\n",
       "      <td>90.5868</td>\n",
       "      <td>82.8123</td>\n",
       "      <td>91.7844</td>\n",
       "      <td>89.6531</td>\n",
       "      <td>87.7808</td>\n",
       "      <td>90.3805</td>\n",
       "      <td>87.4818</td>\n",
       "      <td>88.8796</td>\n",
       "      <td>91.9973</td>\n",
       "      <td>84.9297</td>\n",
       "      <td>94.355</td>\n",
       "      <td>88.8499</td>\n",
       "      <td>83.8369</td>\n",
       "      <td>86.4248</td>\n",
       "      <td>86.1601</td>\n",
       "      <td>90.4552</td>\n",
       "      <td>86.4934</td>\n",
       "      <td>...</td>\n",
       "      <td>85.7244</td>\n",
       "      <td>83.3517</td>\n",
       "      <td>90.5373</td>\n",
       "      <td>88.6645</td>\n",
       "      <td>84.8458</td>\n",
       "      <td>87.1942</td>\n",
       "      <td>86.1461</td>\n",
       "      <td>79.9</td>\n",
       "      <td>85.6568</td>\n",
       "      <td>89.0132</td>\n",
       "      <td>87.2227</td>\n",
       "      <td>83.5096</td>\n",
       "      <td>78.5714</td>\n",
       "      <td>79.3168</td>\n",
       "      <td>63.7298</td>\n",
       "      <td>86.2422</td>\n",
       "      <td>87.5394</td>\n",
       "      <td>86.4673</td>\n",
       "      <td>79.2527</td>\n",
       "      <td>81.1554</td>\n",
       "      <td>86.5173</td>\n",
       "      <td>86.1084</td>\n",
       "      <td>92.9322</td>\n",
       "      <td>89.5697</td>\n",
       "      <td>88.2448</td>\n",
       "      <td>64.728</td>\n",
       "      <td>92.9172</td>\n",
       "      <td>83.362</td>\n",
       "      <td>86.1607</td>\n",
       "      <td>87.7418</td>\n",
       "      <td>84.3739</td>\n",
       "      <td>90.4992</td>\n",
       "      <td>88.3883</td>\n",
       "      <td>85.7527</td>\n",
       "      <td>86.7315</td>\n",
       "      <td>78.1504</td>\n",
       "      <td>90.1949</td>\n",
       "      <td>91.1029</td>\n",
       "      <td>89.8072</td>\n",
       "      <td>83.8583</td>\n",
       "    </tr>\n",
       "    <tr>\n",
       "      <th>두부 곤약 나물 비빔밥</th>\n",
       "      <td>NaN</td>\n",
       "      <td>NaN</td>\n",
       "      <td>NaN</td>\n",
       "      <td>NaN</td>\n",
       "      <td>93.3875</td>\n",
       "      <td>87.9788</td>\n",
       "      <td>93.5912</td>\n",
       "      <td>87.6434</td>\n",
       "      <td>92.7036</td>\n",
       "      <td>83.1</td>\n",
       "      <td>86.9511</td>\n",
       "      <td>89.7212</td>\n",
       "      <td>87.404</td>\n",
       "      <td>75.9809</td>\n",
       "      <td>89.6084</td>\n",
       "      <td>87.494</td>\n",
       "      <td>91.2936</td>\n",
       "      <td>85.4618</td>\n",
       "      <td>87.4564</td>\n",
       "      <td>86.4569</td>\n",
       "      <td>85.1976</td>\n",
       "      <td>85.3814</td>\n",
       "      <td>86.4857</td>\n",
       "      <td>89.6656</td>\n",
       "      <td>80.214</td>\n",
       "      <td>90.4007</td>\n",
       "      <td>86.8089</td>\n",
       "      <td>88.8107</td>\n",
       "      <td>88.2571</td>\n",
       "      <td>88.757</td>\n",
       "      <td>88.434</td>\n",
       "      <td>92.1569</td>\n",
       "      <td>84.136</td>\n",
       "      <td>88.7915</td>\n",
       "      <td>86.8739</td>\n",
       "      <td>85.3936</td>\n",
       "      <td>88.8989</td>\n",
       "      <td>86.7442</td>\n",
       "      <td>89.7309</td>\n",
       "      <td>86.5029</td>\n",
       "      <td>...</td>\n",
       "      <td>84.0776</td>\n",
       "      <td>83.9304</td>\n",
       "      <td>88.9577</td>\n",
       "      <td>87.8267</td>\n",
       "      <td>86.6075</td>\n",
       "      <td>90.8423</td>\n",
       "      <td>89.3337</td>\n",
       "      <td>79.3942</td>\n",
       "      <td>86.7837</td>\n",
       "      <td>88.3583</td>\n",
       "      <td>89.7867</td>\n",
       "      <td>84.3825</td>\n",
       "      <td>80.5342</td>\n",
       "      <td>78.42</td>\n",
       "      <td>62.9026</td>\n",
       "      <td>85.2428</td>\n",
       "      <td>85.2322</td>\n",
       "      <td>86.2701</td>\n",
       "      <td>81.0358</td>\n",
       "      <td>82.719</td>\n",
       "      <td>89.4606</td>\n",
       "      <td>88.7312</td>\n",
       "      <td>92.1669</td>\n",
       "      <td>87.7306</td>\n",
       "      <td>89.7065</td>\n",
       "      <td>69.7976</td>\n",
       "      <td>86.3148</td>\n",
       "      <td>85.7167</td>\n",
       "      <td>83.8898</td>\n",
       "      <td>87.6533</td>\n",
       "      <td>85.6809</td>\n",
       "      <td>88.9427</td>\n",
       "      <td>89.8486</td>\n",
       "      <td>88.5577</td>\n",
       "      <td>88.5324</td>\n",
       "      <td>85.2392</td>\n",
       "      <td>88.8982</td>\n",
       "      <td>92.6832</td>\n",
       "      <td>89.7779</td>\n",
       "      <td>83.3339</td>\n",
       "    </tr>\n",
       "    <tr>\n",
       "      <th>저염 간장을 이용한 닭개장 비빔밥</th>\n",
       "      <td>NaN</td>\n",
       "      <td>NaN</td>\n",
       "      <td>NaN</td>\n",
       "      <td>NaN</td>\n",
       "      <td>NaN</td>\n",
       "      <td>87.9691</td>\n",
       "      <td>94.0986</td>\n",
       "      <td>88.8567</td>\n",
       "      <td>92.9733</td>\n",
       "      <td>84.2126</td>\n",
       "      <td>90.1452</td>\n",
       "      <td>90.0951</td>\n",
       "      <td>89.9498</td>\n",
       "      <td>75.0786</td>\n",
       "      <td>88.4657</td>\n",
       "      <td>90.4858</td>\n",
       "      <td>91.9838</td>\n",
       "      <td>85.3803</td>\n",
       "      <td>88.9348</td>\n",
       "      <td>84.9862</td>\n",
       "      <td>86.3605</td>\n",
       "      <td>88.6204</td>\n",
       "      <td>85.6091</td>\n",
       "      <td>90.6602</td>\n",
       "      <td>80.6158</td>\n",
       "      <td>91.3388</td>\n",
       "      <td>87.0955</td>\n",
       "      <td>89.283</td>\n",
       "      <td>88.6127</td>\n",
       "      <td>86.8748</td>\n",
       "      <td>91.0344</td>\n",
       "      <td>94.193</td>\n",
       "      <td>87.4223</td>\n",
       "      <td>88.9952</td>\n",
       "      <td>88.1398</td>\n",
       "      <td>83.4264</td>\n",
       "      <td>89.5566</td>\n",
       "      <td>88.0593</td>\n",
       "      <td>92.0958</td>\n",
       "      <td>87.2395</td>\n",
       "      <td>...</td>\n",
       "      <td>86.4393</td>\n",
       "      <td>84.9939</td>\n",
       "      <td>89.4669</td>\n",
       "      <td>91.0228</td>\n",
       "      <td>87.9205</td>\n",
       "      <td>93.0339</td>\n",
       "      <td>92.8943</td>\n",
       "      <td>83.853</td>\n",
       "      <td>87.5785</td>\n",
       "      <td>92.2388</td>\n",
       "      <td>91.1191</td>\n",
       "      <td>83.7314</td>\n",
       "      <td>83.8242</td>\n",
       "      <td>82.04</td>\n",
       "      <td>63.938</td>\n",
       "      <td>84.858</td>\n",
       "      <td>85.659</td>\n",
       "      <td>85.0154</td>\n",
       "      <td>80.8775</td>\n",
       "      <td>82.7399</td>\n",
       "      <td>90.145</td>\n",
       "      <td>92.5582</td>\n",
       "      <td>93.5413</td>\n",
       "      <td>88.1991</td>\n",
       "      <td>89.6841</td>\n",
       "      <td>67.4981</td>\n",
       "      <td>87.1627</td>\n",
       "      <td>86.0345</td>\n",
       "      <td>83.963</td>\n",
       "      <td>88.1237</td>\n",
       "      <td>84.2024</td>\n",
       "      <td>91.4105</td>\n",
       "      <td>92.2456</td>\n",
       "      <td>86.3993</td>\n",
       "      <td>89.8745</td>\n",
       "      <td>85.6661</td>\n",
       "      <td>89.6836</td>\n",
       "      <td>93.0671</td>\n",
       "      <td>93.6492</td>\n",
       "      <td>84.1472</td>\n",
       "    </tr>\n",
       "  </tbody>\n",
       "</table>\n",
       "<p>5 rows × 1317 columns</p>\n",
       "</div>"
      ],
      "text/plain": [
       "                   칼륨 듬뿍 고구마죽 누룽지 두부 계란죽 오색지라시 스시  ...  낙지모듬초말이   삼각김밥 빵 병아리콩 컵케이크\n",
       "칼륨 듬뿍 고구마죽                NaN    81.0302   82.415  ...  88.0531  88.1031   78.2019\n",
       "누룽지 두부 계란죽                NaN        NaN  91.3164  ...  91.3252  89.0298    82.666\n",
       "오색지라시 스시                  NaN        NaN      NaN  ...  91.1029  89.8072   83.8583\n",
       "두부 곤약 나물 비빔밥              NaN        NaN      NaN  ...  92.6832  89.7779   83.3339\n",
       "저염 간장을 이용한 닭개장 비빔밥        NaN        NaN      NaN  ...  93.0671  93.6492   84.1472\n",
       "\n",
       "[5 rows x 1317 columns]"
      ]
     },
     "execution_count": 63,
     "metadata": {
      "tags": []
     },
     "output_type": "execute_result"
    }
   ],
   "source": [
    "# cossim.head()"
   ]
  },
  {
   "cell_type": "markdown",
   "metadata": {
    "id": "KiDc_pxN95uN"
   },
   "source": [
    "#### dict 형태로 cosine similarity 저장\n",
    "({key: {key:value, key:value, key:value, ...}, key: {key:value, key:value, key:value, ...}, ...})"
   ]
  },
  {
   "cell_type": "code",
   "execution_count": 35,
   "metadata": {
    "id": "CjVixWZkzP5a"
   },
   "outputs": [],
   "source": [
    "dish = list(recipe_df['요리명'])\n",
    "\n",
    "# initiate a dict where keys are '요리명' (all values initialized to None)\n",
    "cos_sim = {key: None for key in dish}\n",
    "# initiate nested dicts within each key\n",
    "for key in cos_sim.keys():\n",
    "  cos_sim[key] = {key: None for key in dish}\n",
    "\n",
    "for i in range(len(recipe_df)):\n",
    "  dishA = dish[i]\n",
    "  ingredientsA = recipe_df['재료'][i]\n",
    "  counterA = Counter(ingredientsA)\n",
    "\n",
    "  for j in range(len(recipe_df)):\n",
    "    dishB = dish[j]\n",
    "    ingredientsB = recipe_df['재료'][j]\n",
    "    counterB = Counter(ingredientsB)\n",
    "\n",
    "    cos_sim[dishA][dishB] = counter_cosine_similarity(counterA, counterB) * 100"
   ]
  },
  {
   "cell_type": "code",
   "execution_count": 36,
   "metadata": {
    "id": "l21Us72M3BRX"
   },
   "outputs": [],
   "source": [
    "# print(cos_sim['칼륨 듬뿍 고구마죽'])"
   ]
  },
  {
   "cell_type": "code",
   "execution_count": 37,
   "metadata": {
    "id": "Bf0jz2Sa33ZF"
   },
   "outputs": [],
   "source": [
    "#  list({k: v for k, v in sorted(cos_sim['칼륨 듬뿍 고구마죽'].items(), key=lambda item: item[1])})[-6:-1]\n",
    "# list({k: v for k, v in sorted(cos_sim['칼륨 듬뿍 고구마죽'].items(), key=lambda item: item[1],reverse=True)})[1:6]"
   ]
  },
  {
   "cell_type": "code",
   "execution_count": 38,
   "metadata": {
    "id": "-ZgMTprB8xSp"
   },
   "outputs": [],
   "source": [
    "# finds top 5 similar dish (based on what ingredients are used) when given dish_name(str) and cos_sim(dict)\n",
    "def find_similar_recipe(dish_name, cos_sim):\n",
    "\n",
    "  similar = list({k: v for k, v in sorted(cos_sim[dish_name].items(), key=lambda item: item[1],reverse=True)})[1:6]\n",
    "\n",
    "  return similar"
   ]
  },
  {
   "cell_type": "code",
   "execution_count": 40,
   "metadata": {
    "colab": {
     "base_uri": "https://localhost:8080/"
    },
    "id": "zs1bl1kQ_qUf",
    "outputId": "c02ae9fe-2019-410e-af12-2a819297168b"
   },
   "outputs": [
    {
     "data": {
      "text/plain": [
       "['칼륨 듬뿍 고구마죽',\n",
       " '누룽지 두부 계란죽',\n",
       " '오색지라시 스시',\n",
       " '두부 곤약 나물 비빔밥',\n",
       " '저염 간장을 이용한 닭개장 비빔밥',\n",
       " '취나물 비빔밥 & 청국장 쌈장',\n",
       " '해물 채소장을 넣은 곰취 쌈밥',\n",
       " '단호박 케일밥',\n",
       " '오색영양밥 롤',\n",
       " '새우 두부 계란찜']"
      ]
     },
     "execution_count": 40,
     "metadata": {
      "tags": []
     },
     "output_type": "execute_result"
    }
   ],
   "source": [
    "dish[:10] # example 요리명 for input below"
   ]
  },
  {
   "cell_type": "code",
   "execution_count": 39,
   "metadata": {
    "colab": {
     "base_uri": "https://localhost:8080/"
    },
    "id": "U5c8x7oT-V-N",
    "outputId": "c1d9029b-7075-462a-f726-83cd67c7a249"
   },
   "outputs": [
    {
     "name": "stdout",
     "output_type": "stream",
     "text": [
      "요리명을 입력하세요: 단호박 케일밥\n"
     ]
    },
    {
     "data": {
      "text/plain": [
       "['녹차 약밥', '잡곡강정밥', '약밥 닮은 호떡', '된장크림소스 잡곡 오므라이스', '사태떡찜']"
      ]
     },
     "execution_count": 39,
     "metadata": {
      "tags": []
     },
     "output_type": "execute_result"
    }
   ],
   "source": [
    "dish_name = input('요리명을 입력하세요: ').strip()\n",
    "\n",
    "find_similar_recipe(dish_name, cos_sim)"
   ]
  }
 ],
 "metadata": {
  "colab": {
   "collapsed_sections": [
    "fzjbkswiqDVi",
    "Faua-hG4_C20"
   ],
   "name": "1-2_final-proj.ipynb",
   "provenance": [],
   "toc_visible": true
  },
  "kernelspec": {
   "display_name": "Python 3",
   "language": "python",
   "name": "python3"
  },
  "language_info": {
   "codemirror_mode": {
    "name": "ipython",
    "version": 3
   },
   "file_extension": ".py",
   "mimetype": "text/x-python",
   "name": "python",
   "nbconvert_exporter": "python",
   "pygments_lexer": "ipython3",
   "version": "3.7.6"
  },
  "toc": {
   "base_numbering": 1,
   "nav_menu": {},
   "number_sections": true,
   "sideBar": true,
   "skip_h1_title": false,
   "title_cell": "Table of Contents",
   "title_sidebar": "Contents",
   "toc_cell": false,
   "toc_position": {},
   "toc_section_display": true,
   "toc_window_display": false
  }
 },
 "nbformat": 4,
 "nbformat_minor": 1
}
